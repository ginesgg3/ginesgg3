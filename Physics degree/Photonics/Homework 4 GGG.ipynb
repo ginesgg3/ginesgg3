{
 "cells": [
  {
   "cell_type": "markdown",
   "id": "84ca7cf8",
   "metadata": {},
   "source": [
    "Alumno: **Ginés González Guirado**\n",
    "\n",
    "# Homework 4"
   ]
  },
  {
   "cell_type": "code",
   "execution_count": 1,
   "id": "d60f99be",
   "metadata": {},
   "outputs": [],
   "source": [
    "import numpy as np\n",
    "import matplotlib.pyplot as plt"
   ]
  },
  {
   "cell_type": "markdown",
   "id": "e2a87ac8",
   "metadata": {},
   "source": [
    "4.1 You are given the following set of three measurements of the function Y(X)."
   ]
  },
  {
   "cell_type": "markdown",
   "id": "1fb60c24",
   "metadata": {},
   "source": [
    "b) Using the inverse DFT, verify that your answer to (a) is correct."
   ]
  },
  {
   "cell_type": "code",
   "execution_count": 2,
   "id": "ee006369",
   "metadata": {},
   "outputs": [],
   "source": [
    "# Uso una función a la que se le introduce un vector de puntos , a partir del que sacamos la dimension\n",
    "# y los vectores de base (cosenos y senos), y un parametro m al que si le doy el valor m=1 me devuelve la DFT directa\n",
    "# y si le doy el valor m=-1 me devuelve la DFT inversa\n",
    "def ft(v,m):\n",
    "    D=np.size(v)   # Dimension\n",
    "    N=D//2         # Armonicos\n",
    "\n",
    "    M=np.zeros((D,D))\n",
    "    A=np.zeros((D,D))\n",
    "    f=0    # la variable muda f, denota el orden de la columna que estamos rellenando\n",
    "    for i in range(D):\n",
    "        M[i,f]=1/np.sqrt(D)\n",
    "\n",
    "    for k in range(1,N+1):\n",
    "        f=f+1\n",
    "        for i in range(D):\n",
    "            M[i,f]=np.cos(2*k*np.pi*i/D)/np.sqrt(D/2)\n",
    "        f=f+1 \n",
    "        if f<=(D-1):  #si D es par, una vez llegado al último armónico, se llenará el vector de cosenos pero no el de senos\n",
    "            for i in range(D):\n",
    "                M[i,f]=np.sin(2*k*np.pi*i/D)/np.sqrt(D/2)\n",
    "    #M será la matriz para la DFT inversa\n",
    "    if(D%2==0):\n",
    "        for i in range(D):\n",
    "            M[i,D-1]=M[i,D-1]/np.sqrt(2)\n",
    "    \n",
    "    for i in range(D):\n",
    "        for j in range(D):\n",
    "            A[i,j]=M[j,i]  # la matriz para la DFT directa será la traspuesta\n",
    "            \n",
    "    if m==1:        \n",
    "        f=np.sqrt(2/D)*np.dot(A,v) #si m=1 el resultado es la transf directa\n",
    "        return f\n",
    "    elif m==-1:\n",
    "        f=np.sqrt(D/2)*np.dot(M,v) #si m=-1 el resultado es la transf inversa\n",
    "        return f\n",
    "    else:\n",
    "        return print('entrada incorrecta: 1 directa, -1 inversa') #si m es distinto de 1 o -1 ponemos un mensaje de error\n",
    "    "
   ]
  },
  {
   "cell_type": "markdown",
   "id": "457659cc",
   "metadata": {},
   "source": [
    "Para comprobar el resultado, como el primer término del vector $f$ es $\\frac{a_0}{\\sqrt{2}}$ y como $m=2 a_0$, entonces tengo que poner el primer coeficiente como $m \\sqrt{2}$."
   ]
  },
  {
   "cell_type": "code",
   "execution_count": 3,
   "id": "e9496d6e",
   "metadata": {},
   "outputs": [
    {
     "data": {
      "text/plain": [
       "array([ 2., -1.,  3.])"
      ]
     },
     "execution_count": 3,
     "metadata": {},
     "output_type": "execute_result"
    }
   ],
   "source": [
    "a = np.array((4/3*np.sqrt(2), 2/3, -4/np.sqrt(3)))\n",
    "b = ft(a,-1)\n",
    "b"
   ]
  },
  {
   "cell_type": "markdown",
   "id": "baae6e0a",
   "metadata": {},
   "source": [
    "He obtenido los valores iniciales de $y(x)$."
   ]
  },
  {
   "cell_type": "markdown",
   "id": "cb56e720",
   "metadata": {},
   "source": [
    "c) Using MATLAB, plot your 3 data points and the Fourier series determined in (a)."
   ]
  },
  {
   "cell_type": "code",
   "execution_count": 4,
   "id": "41fe0b8c",
   "metadata": {},
   "outputs": [
    {
     "data": {
      "image/png": "[encoded data removed]",
      "text/plain": [
       "<Figure size 432x288 with 1 Axes>"
      ]
     },
     "metadata": {
      "needs_background": "light"
     },
     "output_type": "display_data"
    }
   ],
   "source": [
    "D=np.size(b)\n",
    "L=D # Longitud de la funcion porque los puntos x están tomados de 1 en 1\n",
    "\n",
    "x = np.linspace(0,3,100)   # puntos para generar la serie de Fourier\n",
    "f = 4/3 + 2/3*np.cos(2*np.pi*x/L) - 4/np.sqrt(3)*np.sin(2*np.pi*x/L)   #Serie de Fourier con los coeficientes obtenidos\n",
    "\n",
    "X = np.arange(0,L,L/D)    # puntos a partir de los que he obtenido los coeficientes\n",
    "\n",
    "plt.plot(x,f)            # Dibujo Serie de Fourier\n",
    "plt.plot(X,b,'o')        # Dibujo los puntos a partir de los que he obtenido los coeficientes\n",
    "plt.xlabel(\"x\")\n",
    "plt.ylabel(\"Y\")\n",
    "plt.title(\"Ajuste de los datos con la transformada\")\n",
    "plt.show()"
   ]
  },
  {
   "cell_type": "markdown",
   "id": "f3f74f00",
   "metadata": {},
   "source": [
    "d) Verify Parsival's theorem for this data vector."
   ]
  },
  {
   "cell_type": "markdown",
   "id": "0d809133",
   "metadata": {},
   "source": [
    "Compruebo la ecuación 3.45 del libro \"Fourier Anallysis for beginners\"."
   ]
  },
  {
   "cell_type": "code",
   "execution_count": 5,
   "id": "ea203054",
   "metadata": {},
   "outputs": [
    {
     "data": {
      "text/plain": [
       "True"
      ]
     },
     "execution_count": 5,
     "metadata": {},
     "output_type": "execute_result"
    }
   ],
   "source": [
    "D=np.size(a)\n",
    "s=0\n",
    "for i in range(D):\n",
    "    s=s+(a[i])**2     # Coeficientes\n",
    "    \n",
    "h=0\n",
    "for i in range(D):\n",
    "    h=h+(b[i])**2     # Valores de la funcion\n",
    "\n",
    "    \n",
    "round(D/2*s,7)==round(h,7)  #lo comprobamos con precisión hasta la séptima cifra defimal"
   ]
  },
  {
   "cell_type": "markdown",
   "id": "64299cfc",
   "metadata": {},
   "source": [
    "4.2 You are given the following set of 9 measurements of the function $Y(X)=e^{-x}$:"
   ]
  },
  {
   "cell_type": "markdown",
   "id": "03b29ff3",
   "metadata": {},
   "source": [
    "a) Determine the Fourier coefficients."
   ]
  },
  {
   "cell_type": "code",
   "execution_count": 6,
   "id": "2c6807ce",
   "metadata": {},
   "outputs": [
    {
     "data": {
      "text/plain": [
       "array([0.39492081, 0.26822633, 0.19532921, 0.16989523, 0.1134277 ,\n",
       "       0.14505456, 0.05846311, 0.13757269, 0.01817817])"
      ]
     },
     "execution_count": 6,
     "metadata": {},
     "output_type": "execute_result"
    }
   ],
   "source": [
    "# Hallo los coeficientes de Fourier con la DFT directa\n",
    "v=np.array((1,0.60653066,0.36787944,0.22313016,0.13533528,0.082085,0.04978707,0.03019738,0.01831564)) \n",
    "f=ft(v,1)\n",
    "f"
   ]
  },
  {
   "cell_type": "markdown",
   "id": "2cf51131",
   "metadata": {},
   "source": [
    "b) Using the inverse DFT, verify that your answer to (a) is correct."
   ]
  },
  {
   "cell_type": "code",
   "execution_count": 7,
   "id": "0ae762b9",
   "metadata": {},
   "outputs": [
    {
     "data": {
      "text/plain": [
       "array([1.        , 0.60653066, 0.36787944, 0.22313016, 0.13533528,\n",
       "       0.082085  , 0.04978707, 0.03019738, 0.01831564])"
      ]
     },
     "execution_count": 7,
     "metadata": {},
     "output_type": "execute_result"
    }
   ],
   "source": [
    "#Compruebo que me dan los mismos valores de y(x) con la DFT inversa\n",
    "ft(f,-1)"
   ]
  },
  {
   "cell_type": "markdown",
   "id": "43c3f0f8",
   "metadata": {},
   "source": [
    "c) Plot the Fourier coefficients as a frequency spectrum (e.g. see Fig. 4.4 of coursenotes)"
   ]
  },
  {
   "cell_type": "code",
   "execution_count": 8,
   "id": "136c686d",
   "metadata": {},
   "outputs": [
    {
     "data": {
      "image/png": "[encoded data removed]",
      "text/plain": [
       "<Figure size 432x288 with 1 Axes>"
      ]
     },
     "metadata": {
      "needs_background": "light"
     },
     "output_type": "display_data"
    }
   ],
   "source": [
    "D=np.size(v)\n",
    "delta=0.5\n",
    "L=delta*D\n",
    "\n",
    "if (D%2==0):\n",
    "    N=D/2\n",
    "else:\n",
    "    N=(D-1)/2\n",
    "    \n",
    "\n",
    "a=np.zeros(int(N)+1)  #para incluir el a_o   \n",
    "b=np.zeros(int(N))\n",
    "a[0]=f[0]\n",
    "h=0\n",
    "g=-1\n",
    "for i in range(1,D):\n",
    "    if i%2==0:\n",
    "        g=g+1\n",
    "        b[g]=f[i]\n",
    "    else:\n",
    "        h=h+1\n",
    "        a[h]=f[i]\n",
    "    \n",
    "\n",
    "    \n",
    "F=np.arange(0,N/L+0.01,1/L)\n",
    "plt.plot(F,a,'o')\n",
    "plt.xlim([0,1])\n",
    "plt.xlabel('w')\n",
    "plt.ylabel('a_k');"
   ]
  },
  {
   "cell_type": "code",
   "execution_count": 9,
   "id": "39251a62",
   "metadata": {},
   "outputs": [
    {
     "data": {
      "image/png": "[encoded data removed]",
      "text/plain": [
       "<Figure size 432x288 with 1 Axes>"
      ]
     },
     "metadata": {
      "needs_background": "light"
     },
     "output_type": "display_data"
    }
   ],
   "source": [
    "Fp=np.delete(F,0)\n",
    "plt.plot(Fp,b,'o')\n",
    "plt.xlim([0,1])\n",
    "plt.xlabel('w')\n",
    "plt.ylabel('b_k');"
   ]
  },
  {
   "cell_type": "markdown",
   "id": "49348f25",
   "metadata": {},
   "source": [
    "d) Verify Parsival's theorem for this data vector."
   ]
  },
  {
   "cell_type": "code",
   "execution_count": 10,
   "id": "5e731fbf",
   "metadata": {},
   "outputs": [
    {
     "data": {
      "text/plain": [
       "True"
      ]
     },
     "execution_count": 10,
     "metadata": {},
     "output_type": "execute_result"
    }
   ],
   "source": [
    "#teorema de Parseval\n",
    "s=0\n",
    "for i in range(D):\n",
    "    s=s+(v[i])**2\n",
    "    \n",
    "h=0\n",
    "for i in range(D):\n",
    "    h=h+(f[i])**2\n",
    "\n",
    "    \n",
    "round(D/2*h,7)==round(s,7)"
   ]
  },
  {
   "cell_type": "markdown",
   "id": "65bc21ae",
   "metadata": {},
   "source": [
    "4.3 You are given the following set of 10 measurements of the function $Y(X)=2X$."
   ]
  },
  {
   "cell_type": "markdown",
   "id": "2b3ec4a4",
   "metadata": {},
   "source": [
    "a) Determine the Fourier coefficients."
   ]
  },
  {
   "cell_type": "code",
   "execution_count": 11,
   "id": "4493aeaf",
   "metadata": {},
   "outputs": [
    {
     "data": {
      "text/plain": [
       "array([12.72792206, -2.        , -6.15536707, -2.        , -2.75276384,\n",
       "       -2.        , -1.45308506, -2.        , -0.64983939, -1.41421356])"
      ]
     },
     "execution_count": 11,
     "metadata": {},
     "output_type": "execute_result"
    }
   ],
   "source": [
    "v=np.array((0,2,4,6,8,10,12,14,16,18)) \n",
    "f=ft(v,1)\n",
    "f"
   ]
  },
  {
   "cell_type": "markdown",
   "id": "ad284858",
   "metadata": {},
   "source": [
    "b) Using the inverse DFT, verify that your answer to (a) is correct."
   ]
  },
  {
   "cell_type": "code",
   "execution_count": 12,
   "id": "407ac3af",
   "metadata": {},
   "outputs": [
    {
     "data": {
      "text/plain": [
       "array([-3.97205465e-15,  2.00000000e+00,  4.00000000e+00,  6.00000000e+00,\n",
       "        8.00000000e+00,  1.00000000e+01,  1.20000000e+01,  1.40000000e+01,\n",
       "        1.60000000e+01,  1.80000000e+01])"
      ]
     },
     "execution_count": 12,
     "metadata": {},
     "output_type": "execute_result"
    }
   ],
   "source": [
    "ft(f,-1)"
   ]
  },
  {
   "cell_type": "markdown",
   "id": "a591d25f",
   "metadata": {},
   "source": [
    "c) Plot the Fourier coefficients as a frequency spectrum (e.g. see Fig. 4.4 of coursenotes)"
   ]
  },
  {
   "cell_type": "code",
   "execution_count": 13,
   "id": "6406ffd8",
   "metadata": {},
   "outputs": [
    {
     "data": {
      "image/png": "[encoded data removed]",
      "text/plain": [
       "<Figure size 432x288 with 1 Axes>"
      ]
     },
     "metadata": {
      "needs_background": "light"
     },
     "output_type": "display_data"
    }
   ],
   "source": [
    "D=np.size(v)\n",
    "delta=1\n",
    "L=delta*D\n",
    "\n",
    "if (D%2==0):\n",
    "    N=D/2\n",
    "else:\n",
    "    N=(D-1)/2\n",
    "    \n",
    "\n",
    "a=np.zeros(int(N)+1)  #para incluir el a_o   \n",
    "b=np.zeros(int(N))\n",
    "a[0]=f[0]\n",
    "h=0\n",
    "g=-1\n",
    "for i in range(1,D):\n",
    "    if i%2==0:\n",
    "        g=g+1\n",
    "        b[g]=f[i]\n",
    "    else:\n",
    "        h=h+1\n",
    "        a[h]=f[i]\n",
    "\n",
    "if (D%2==0):\n",
    "    b=np.delete(b,int(N)-1)\n",
    "\n",
    "    \n",
    "F=np.arange(0,N/L+0.01,1/L)\n",
    "plt.plot(F,a,'o')\n",
    "plt.xlim([0,0.5])\n",
    "plt.xlabel('w')\n",
    "plt.ylabel('a_k');"
   ]
  },
  {
   "cell_type": "code",
   "execution_count": 14,
   "id": "267d1753",
   "metadata": {},
   "outputs": [
    {
     "data": {
      "image/png": "[encoded data removed]",
      "text/plain": [
       "<Figure size 432x288 with 1 Axes>"
      ]
     },
     "metadata": {
      "needs_background": "light"
     },
     "output_type": "display_data"
    }
   ],
   "source": [
    "if (D%2==0):\n",
    "    Fp=np.delete(np.delete(F,np.size(F)-1),0)\n",
    "else:\n",
    "    Fp=np.delete(F,0)\n",
    "\n",
    "plt.plot(Fp,b,'o')\n",
    "plt.xlim([0,0.5])\n",
    "plt.xlabel('w')\n",
    "plt.ylabel('b_k');"
   ]
  },
  {
   "cell_type": "markdown",
   "id": "12987e66",
   "metadata": {},
   "source": [
    "d) Verify Parsival's theorem for this data vector."
   ]
  },
  {
   "cell_type": "code",
   "execution_count": 15,
   "id": "7e5367d3",
   "metadata": {},
   "outputs": [
    {
     "data": {
      "text/plain": [
       "True"
      ]
     },
     "execution_count": 15,
     "metadata": {},
     "output_type": "execute_result"
    }
   ],
   "source": [
    "#Teorema de Parseval\n",
    "s=0\n",
    "for i in range(D):\n",
    "    s=s+(v[i])**2\n",
    "    \n",
    "h=0\n",
    "for i in range(D):\n",
    "    h=h+(f[i])**2\n",
    "\n",
    "    \n",
    "round(D/2*h,7)==round(s,7)"
   ]
  },
  {
   "cell_type": "markdown",
   "id": "6aa818a7",
   "metadata": {},
   "source": [
    "4.4 Fourier Series. Use the MATLAB function FourierSeries to interpolate the sampled data vectors in problems 4.1 - 4.3. Use this program to plot a Fourier series that fits the data vectors supplied in problems 4.1 - 4.3. This smooth function should match the sampled data exactly, and provide a reasonable interpolation between sample points."
   ]
  },
  {
   "cell_type": "code",
   "execution_count": null,
   "id": "ee589380",
   "metadata": {},
   "outputs": [],
   "source": []
  },
  {
   "cell_type": "markdown",
   "id": "0651fbc1",
   "metadata": {},
   "source": [
    "4.5. Complex exponential basis functions. Write a MATLAB procedure similar to MakeTrig to compute the ortho-normal matrix defined in text eqns. 4.17, 4.20 using complex exponential basis functons."
   ]
  },
  {
   "cell_type": "code",
   "execution_count": 16,
   "id": "af78900a",
   "metadata": {},
   "outputs": [],
   "source": [
    "def mat(D):\n",
    "    N=D//2\n",
    "\n",
    "    M=np.zeros((D,D),dtype=complex)\n",
    "    f=0\n",
    "    for i in range(D):\n",
    "        M[i,f]=1\n",
    "\n",
    "    for k in range(1,N+1):\n",
    "        f=f+1\n",
    "        for i in range(D):\n",
    "            M[i,f]=np.exp(1j*2*k*np.pi*i/D)\n",
    "        f=f+1 \n",
    "        if f<=(D-1):\n",
    "            for i in range(D):\n",
    "                M[i,f]=np.exp(-1j*2*k*np.pi*i/D)\n",
    "              \n",
    "    return M\n",
    "    "
   ]
  },
  {
   "cell_type": "markdown",
   "id": "ec8cdc22",
   "metadata": {},
   "source": [
    "a) Verify your result manually for the case of D=2,3,4,5."
   ]
  },
  {
   "cell_type": "code",
   "execution_count": 17,
   "id": "56ba52f2",
   "metadata": {},
   "outputs": [
    {
     "data": {
      "text/plain": [
       "array([[ 1.+0.0000000e+00j,  1.+0.0000000e+00j],\n",
       "       [ 1.+0.0000000e+00j, -1.+1.2246468e-16j]])"
      ]
     },
     "execution_count": 17,
     "metadata": {},
     "output_type": "execute_result"
    }
   ],
   "source": [
    "mat(2)"
   ]
  },
  {
   "cell_type": "code",
   "execution_count": 18,
   "id": "3a5b473b",
   "metadata": {},
   "outputs": [
    {
     "data": {
      "text/plain": [
       "array([[ 1. +0.j       ,  1. +0.j       ,  1. +0.j       ],\n",
       "       [ 1. +0.j       , -0.5+0.8660254j, -0.5-0.8660254j],\n",
       "       [ 1. +0.j       , -0.5-0.8660254j, -0.5+0.8660254j]])"
      ]
     },
     "execution_count": 18,
     "metadata": {},
     "output_type": "execute_result"
    }
   ],
   "source": [
    "mat(3)"
   ]
  },
  {
   "cell_type": "code",
   "execution_count": 19,
   "id": "0fa2cbe0",
   "metadata": {},
   "outputs": [
    {
     "data": {
      "text/plain": [
       "array([[ 1.0000000e+00+0.0000000e+00j,  1.0000000e+00+0.0000000e+00j,\n",
       "         1.0000000e+00+0.0000000e+00j,  1.0000000e+00+0.0000000e+00j],\n",
       "       [ 1.0000000e+00+0.0000000e+00j,  6.1232340e-17+1.0000000e+00j,\n",
       "         6.1232340e-17-1.0000000e+00j, -1.0000000e+00+1.2246468e-16j],\n",
       "       [ 1.0000000e+00+0.0000000e+00j, -1.0000000e+00+1.2246468e-16j,\n",
       "        -1.0000000e+00-1.2246468e-16j,  1.0000000e+00-2.4492936e-16j],\n",
       "       [ 1.0000000e+00+0.0000000e+00j, -1.8369702e-16-1.0000000e+00j,\n",
       "        -1.8369702e-16+1.0000000e+00j, -1.0000000e+00+3.6739404e-16j]])"
      ]
     },
     "execution_count": 19,
     "metadata": {},
     "output_type": "execute_result"
    }
   ],
   "source": [
    "mat(4)"
   ]
  },
  {
   "cell_type": "code",
   "execution_count": 20,
   "id": "ef64a9b7",
   "metadata": {},
   "outputs": [
    {
     "data": {
      "text/plain": [
       "array([[ 1.        +0.j        ,  1.        +0.j        ,\n",
       "         1.        +0.j        ,  1.        +0.j        ,\n",
       "         1.        +0.j        ],\n",
       "       [ 1.        +0.j        ,  0.30901699+0.95105652j,\n",
       "         0.30901699-0.95105652j, -0.80901699+0.58778525j,\n",
       "        -0.80901699-0.58778525j],\n",
       "       [ 1.        +0.j        , -0.80901699+0.58778525j,\n",
       "        -0.80901699-0.58778525j,  0.30901699-0.95105652j,\n",
       "         0.30901699+0.95105652j],\n",
       "       [ 1.        +0.j        , -0.80901699-0.58778525j,\n",
       "        -0.80901699+0.58778525j,  0.30901699+0.95105652j,\n",
       "         0.30901699-0.95105652j],\n",
       "       [ 1.        +0.j        ,  0.30901699-0.95105652j,\n",
       "         0.30901699+0.95105652j, -0.80901699-0.58778525j,\n",
       "        -0.80901699+0.58778525j]])"
      ]
     },
     "execution_count": 20,
     "metadata": {},
     "output_type": "execute_result"
    }
   ],
   "source": [
    "mat(5)"
   ]
  },
  {
   "cell_type": "markdown",
   "id": "58bf7049",
   "metadata": {},
   "source": [
    "b) Verify text eqn. 4.24 specifying the conjugate symmetry expected of the basis vectors."
   ]
  },
  {
   "cell_type": "markdown",
   "id": "7386b325",
   "metadata": {},
   "source": [
    "La simetría del complejo conjugado se puede ver directamente de las matrices obtenidas antes."
   ]
  },
  {
   "cell_type": "code",
   "execution_count": 21,
   "id": "7b456348",
   "metadata": {},
   "outputs": [
    {
     "name": "stdout",
     "output_type": "stream",
     "text": [
      "True\n",
      "True\n",
      "True\n",
      "True\n",
      "True\n",
      "True\n",
      "True\n",
      "True\n"
     ]
    }
   ],
   "source": [
    "#comprobación mediante las matrices complejas, es decir con el conjugado\n",
    "\n",
    "D=5 #dimensión arbitraria para la que lo queramos comprobar\n",
    "M=mat(D)\n",
    "for j in range(1,D-1,2):  #el paso es de 2 porque quiero comprobar la col 1 con la 2, luego la 3 con la 4...\n",
    "    for i in range(1,D):\n",
    "        print(M[i,j]==M[i,j+1].conjugate())\n"
   ]
  },
  {
   "cell_type": "code",
   "execution_count": 22,
   "id": "8e056652",
   "metadata": {},
   "outputs": [],
   "source": [
    "# comprobación de la relación con las matrices reales (ec 4.24)\n",
    "#primero definimos estas matrices\n",
    "def rmat(D):\n",
    "    N=D//2\n",
    "\n",
    "    M=np.zeros((D,D))\n",
    "    f=0\n",
    "    for i in range(D):\n",
    "        M[i,f]=1\n",
    "\n",
    "    for k in range(1,N+1):\n",
    "        f=f+1\n",
    "        for i in range(D):\n",
    "            M[i,f]=np.cos(2*k*np.pi*i/D)\n",
    "        f=f+1 \n",
    "        if f<=(D-1):\n",
    "            for i in range(D):\n",
    "                M[i,f]=np.sin(2*k*np.pi*i/D)\n",
    "              \n",
    "    return M\n"
   ]
  },
  {
   "cell_type": "code",
   "execution_count": 23,
   "id": "1b909302",
   "metadata": {},
   "outputs": [
    {
     "data": {
      "text/plain": [
       "array([[ 1.        ,  1.        ,  0.        ,  1.        ,  0.        ],\n",
       "       [ 1.        ,  0.30901699,  0.95105652, -0.80901699,  0.58778525],\n",
       "       [ 1.        , -0.80901699,  0.58778525,  0.30901699, -0.95105652],\n",
       "       [ 1.        , -0.80901699, -0.58778525,  0.30901699,  0.95105652],\n",
       "       [ 1.        ,  0.30901699, -0.95105652, -0.80901699, -0.58778525]])"
      ]
     },
     "execution_count": 23,
     "metadata": {},
     "output_type": "execute_result"
    }
   ],
   "source": [
    "rmat(5)  #Ejemplo de lo que se obtendria"
   ]
  },
  {
   "cell_type": "code",
   "execution_count": 24,
   "id": "994f8ccd",
   "metadata": {},
   "outputs": [
    {
     "name": "stdout",
     "output_type": "stream",
     "text": [
      "True\n",
      "True\n",
      "True\n",
      "True\n",
      "True\n",
      "True\n",
      "True\n",
      "True\n"
     ]
    }
   ],
   "source": [
    "D=5 #dimensión arbitraria para la que lo queramos comprobar\n",
    "M=mat(D)\n",
    "R=rmat(D)\n",
    "for j in range(1,D-1,2): \n",
    "    for i in range(1,D):\n",
    "        print(M[i,j]==R[i,j]+1j*R[i,j+1])  #Qj=Cj+i*Sj"
   ]
  },
  {
   "cell_type": "markdown",
   "id": "c780a945",
   "metadata": {},
   "source": [
    "4.6 Complex exponential DFT. Write a MATLAB procedure to implement the forward DFT (text eqns. 4.16, 4.21) and inverse DFT (text eqn. 3.38) for any data vector of length D and complex exponential basis functions. Verify that your routine can yield v=IDFT(DFT(v)) for the following data vectors\n",
    "\n",
    "$$v1 = [3, -2, 6]$$\n",
    "\n",
    "$$v2 = [-5, 0, 3, 8]$$"
   ]
  },
  {
   "cell_type": "code",
   "execution_count": 25,
   "id": "6185ace6",
   "metadata": {},
   "outputs": [],
   "source": [
    "def ft2(v,m):\n",
    "    D=np.size(v)\n",
    "    N=D//2\n",
    "\n",
    "    M=np.zeros((D,D),dtype=complex)\n",
    "    A=np.zeros((D,D),dtype=complex)\n",
    "    f=0\n",
    "    for i in range(D):\n",
    "        M[i,f]=1/np.sqrt(D)\n",
    "\n",
    "    for k in range(1,N+1):\n",
    "        f=f+1\n",
    "        for i in range(D):\n",
    "            M[i,f]=np.exp(1j*2*k*np.pi*i/D)/np.sqrt(D)\n",
    "        f=f+1 \n",
    "        if f<=(D-1):\n",
    "            for i in range(D):\n",
    "                M[i,f]=np.exp(-1j*2*k*np.pi*i/D)/np.sqrt(D)\n",
    "    #M será la matriz para la transf inversa\n",
    "    \n",
    "    for i in range(D):\n",
    "        for j in range(D):\n",
    "            A[i,j]=M[j,i].conjugate()  # la matriz para la transf directa será la traspuesta\n",
    "            \n",
    "            \n",
    "    if m==1:        \n",
    "        f=np.sqrt(1/D)*np.dot(A,v) #si m=1 el resultado es la transf directa\n",
    "        return f\n",
    "    elif m==-1:\n",
    "        f=np.sqrt(D)*np.dot(M,v) #si m=-1 el resultado es la transf inversa\n",
    "        return f\n",
    "    else:\n",
    "        return print('entrada incorrecta: 1 directa, -1 inversa') #si m es disntinto de 1 o -1 ponemos un mensaje de error\n",
    "    "
   ]
  },
  {
   "cell_type": "code",
   "execution_count": 26,
   "id": "17986dd5",
   "metadata": {},
   "outputs": [
    {
     "data": {
      "text/plain": [
       "array([ 3.+0.j, -2.+0.j,  6.+0.j])"
      ]
     },
     "execution_count": 26,
     "metadata": {},
     "output_type": "execute_result"
    }
   ],
   "source": [
    "#para v=[3,-2,6]\n",
    "v=np.array((3,-2,6))\n",
    "f22 = ft2(ft2(v,1),-1)\n",
    "f22"
   ]
  },
  {
   "cell_type": "code",
   "execution_count": 27,
   "id": "1132e6bc",
   "metadata": {},
   "outputs": [
    {
     "data": {
      "text/plain": [
       "array([-5.-4.4408921e-16j,  0.+4.4408921e-16j,  3.+0.0000000e+00j,\n",
       "        8.-4.4408921e-16j])"
      ]
     },
     "execution_count": 27,
     "metadata": {},
     "output_type": "execute_result"
    }
   ],
   "source": [
    "#para v=[-5,0,3,8]\n",
    "v=np.array((-5,0,3,8))\n",
    "f22 = ft2(ft2(v,1),-1)\n",
    "f22"
   ]
  },
  {
   "cell_type": "markdown",
   "id": "f714c53a",
   "metadata": {},
   "source": [
    "Se cumple v=IDFT(DFT(v)), ya que la parte compleja es nula."
   ]
  },
  {
   "cell_type": "markdown",
   "id": "3a37f0e9",
   "metadata": {},
   "source": [
    "a) Compare the Fourier coefficients produced by this progarm with those produced by the DFT program written for trigonometrical basis functions in problem set 3.\n",
    "\n",
    "b) Verify text eqn. 4.23 which specifies the relationship between Fourier coefficients for trigonometrical and complex exponential basis functions."
   ]
  },
  {
   "cell_type": "code",
   "execution_count": 28,
   "id": "449daf05",
   "metadata": {},
   "outputs": [
    {
     "name": "stdout",
     "output_type": "stream",
     "text": [
      "f1 =  [ 3.29983165  0.66666667 -4.61880215] ;  f2 =  [2.33333333+0.j         0.33333333+2.30940108j 0.33333333-2.30940108j]\n"
     ]
    }
   ],
   "source": [
    "#para v=[3,-2,6]\n",
    "v=np.array((3,-2,6))\n",
    "f1=ft(v,1)\n",
    "f2=ft2(v,1)\n",
    "print(\"f1 = \",f1,\";  f2 = \", f2)"
   ]
  },
  {
   "cell_type": "code",
   "execution_count": 29,
   "id": "d462b159",
   "metadata": {},
   "outputs": [
    {
     "name": "stdout",
     "output_type": "stream",
     "text": [
      "m =  2.3333333333333335   c0 =  (2.333333333333334+0j)\n",
      "(a1 - i*b1)/2 =  (0.3333333333333323+2.309401076758503j)   c1 =  (0.3333333333333323+2.309401076758503j)\n",
      "(a1 + i*b1)/2 =  (0.3333333333333323-2.309401076758503j)   c-1 =  (0.33333333333333237-2.309401076758503j)\n"
     ]
    }
   ],
   "source": [
    "print(\"m = \",f1[0]/np.sqrt(2),\"  c0 = \",f2[0])\n",
    "print(\"(a1 - i*b1)/2 = \",(f1[1] - 1j*f1[2])/2,\"  c1 = \",f2[1])\n",
    "print(\"(a1 + i*b1)/2 = \",(f1[1] + 1j*f1[2])/2,\"  c-1 = \",f2[2])"
   ]
  },
  {
   "cell_type": "code",
   "execution_count": 30,
   "id": "f07e4137",
   "metadata": {},
   "outputs": [
    {
     "name": "stdout",
     "output_type": "stream",
     "text": [
      "f1 =  [ 2.12132034 -4.         -4.         -3.53553391] ;  f2 =  [ 1.5+0.0000000e+00j -2. +2.0000000e+00j -2. -2.0000000e+00j\n",
      " -2.5-5.5109106e-16j]\n"
     ]
    }
   ],
   "source": [
    "#para v=[-5,0,3,8]\n",
    "v=np.array((-5,0,3,8))\n",
    "f1=ft(v,1)\n",
    "f2=ft2(v,1)\n",
    "print(\"f1 = \",f1,\";  f2 = \", f2)"
   ]
  },
  {
   "cell_type": "code",
   "execution_count": 31,
   "id": "89ebb284",
   "metadata": {},
   "outputs": [
    {
     "name": "stdout",
     "output_type": "stream",
     "text": [
      "m =  1.5   c0 =  (1.5+0j)\n",
      "(a1 - i*b1)/2 =  (-2.0000000000000004+2j)   c1 =  (-2.0000000000000004+2j)\n",
      "(a1 + i*b1)/2 =  (-2.0000000000000004-2j)   c-1 =  (-2.0000000000000004-2j)\n",
      "(a2 - i*b2)/2 =  -1.7677669529663689   c2 =  (-2.5-5.51091059616309e-16j)\n"
     ]
    }
   ],
   "source": [
    "print(\"m = \",f1[0]/np.sqrt(2),\"  c0 = \",f2[0])\n",
    "print(\"(a1 - i*b1)/2 = \",(f1[1] - 1j*f1[2])/2,\"  c1 = \",f2[1])\n",
    "print(\"(a1 + i*b1)/2 = \",(f1[1] + 1j*f1[2])/2,\"  c-1 = \",f2[2])\n",
    "print(\"(a2 - i*b2)/2 = \",(f1[3])/2,\"  c2 = \",f2[3])"
   ]
  },
  {
   "cell_type": "markdown",
   "id": "c0a3d8fa",
   "metadata": {},
   "source": [
    "Podemos apreciar que se cumple la relación."
   ]
  },
  {
   "cell_type": "markdown",
   "id": "bffc72cb",
   "metadata": {},
   "source": [
    "Nota: si queremos expresar la salida de forma que $c_o$ esté en el centro, podemos utilizar la función de python np.fft.fftshift, de forma que se expresa el resultado como en 4.21 en lugar de como en 4.17."
   ]
  },
  {
   "cell_type": "code",
   "execution_count": 32,
   "id": "9a106bcf",
   "metadata": {},
   "outputs": [
    {
     "data": {
      "text/plain": [
       "array([-2. -2.0000000e+00j, -2.5-5.5109106e-16j,  1.5+0.0000000e+00j,\n",
       "       -2. +2.0000000e+00j])"
      ]
     },
     "execution_count": 32,
     "metadata": {},
     "output_type": "execute_result"
    }
   ],
   "source": [
    "np.fft.fftshift(f2)"
   ]
  },
  {
   "cell_type": "markdown",
   "id": "e6c0ff06",
   "metadata": {},
   "source": [
    "Es posible que el hecho de que D sea par influya en la relación de los coeficientes para el último armónico, ya que en el último no se cumple la relación exactamente, es cierto que la parte imaginaria es 0 porque no hay un término $b_N$ pero la parte real no es $a_N/2$, sin embargo se cumple para $a_N/ \\sqrt{2}$"
   ]
  },
  {
   "cell_type": "markdown",
   "id": "b7aac8d7",
   "metadata": {},
   "source": [
    "4.7 Comparison of \"slow\" and \"fast\" algorithms for computing Fourier coefficients.\n",
    "\n",
    "To check the results of the FFT method with the \"slow\" DFT methods developed in V791, consider the following set of 8 measurements of the function Y(X)=e-x."
   ]
  },
  {
   "cell_type": "markdown",
   "id": "39d8cd92",
   "metadata": {},
   "source": [
    "a) Determine the Fourier coefficients."
   ]
  },
  {
   "cell_type": "code",
   "execution_count": 33,
   "id": "222a077f",
   "metadata": {},
   "outputs": [
    {
     "data": {
      "text/plain": [
       "array([0.31186812+0.00000000e+00j, 0.13738497-1.03169441e-01j,\n",
       "       0.13738497+1.03169441e-01j, 0.0897086 -5.44110150e-02j,\n",
       "       0.0897086 +5.44110150e-02j, 0.07878121-2.36463487e-02j,\n",
       "       0.07878121+2.36463487e-02j, 0.07638232-4.92775492e-18j])"
      ]
     },
     "execution_count": 33,
     "metadata": {},
     "output_type": "execute_result"
    }
   ],
   "source": [
    "v=np.array((1,0.60653066,0.36787944,0.22313016,0.13533528,0.082085,0.04978707,0.03019738))\n",
    "f2=ft2(v,1)\n",
    "f2"
   ]
  },
  {
   "cell_type": "code",
   "execution_count": 34,
   "id": "6229f6dd",
   "metadata": {},
   "outputs": [
    {
     "data": {
      "text/plain": [
       "array([0.0897086 +5.44110150e-02j, 0.07878121-2.36463487e-02j,\n",
       "       0.07878121+2.36463487e-02j, 0.07638232-4.92775492e-18j,\n",
       "       0.31186812+0.00000000e+00j, 0.13738497-1.03169441e-01j,\n",
       "       0.13738497+1.03169441e-01j, 0.0897086 -5.44110150e-02j])"
      ]
     },
     "execution_count": 34,
     "metadata": {},
     "output_type": "execute_result"
    }
   ],
   "source": [
    "# La ordeno\n",
    "np.fft.fftshift(f2)"
   ]
  },
  {
   "cell_type": "markdown",
   "id": "4e712e45",
   "metadata": {},
   "source": [
    "b) Using the inverse DFT, verify that your answer to (a) is correct."
   ]
  },
  {
   "cell_type": "code",
   "execution_count": 35,
   "id": "b55b6a7d",
   "metadata": {},
   "outputs": [
    {
     "data": {
      "text/plain": [
       "array([1.        +0.00000000e+00j, 0.60653066+3.92523115e-17j,\n",
       "       0.36787944-1.96261557e-17j, 0.22313016+3.92523115e-17j,\n",
       "       0.13533528-3.92523115e-17j, 0.082085  +5.88784672e-17j,\n",
       "       0.04978707-5.88784672e-17j, 0.03019738+7.85046229e-17j])"
      ]
     },
     "execution_count": 35,
     "metadata": {},
     "output_type": "execute_result"
    }
   ],
   "source": [
    "ft2(f2,-1)"
   ]
  },
  {
   "cell_type": "markdown",
   "id": "1e02faa7",
   "metadata": {},
   "source": [
    "c) Using the MATLAB function fft.m, compare your answers with results from the FFT procedure. Pay attention to the ordering of the results as well as the actual values."
   ]
  },
  {
   "cell_type": "code",
   "execution_count": 36,
   "id": "dc20c575",
   "metadata": {},
   "outputs": [
    {
     "data": {
      "text/plain": [
       "array([0.61105859+0.j        , 0.63024971+0.18917079j,\n",
       "       0.71766877+0.43528812j, 1.09907973+0.82535553j,\n",
       "       2.49494499+0.j        , 1.09907973-0.82535553j,\n",
       "       0.71766877-0.43528812j, 0.63024971-0.18917079j])"
      ]
     },
     "execution_count": 36,
     "metadata": {},
     "output_type": "execute_result"
    }
   ],
   "source": [
    "f=np.fft.fftshift(np.fft.fft(v))\n",
    "f"
   ]
  },
  {
   "cell_type": "markdown",
   "id": "c376422f",
   "metadata": {},
   "source": [
    "Los valores de la fft implementada en python no se asemejan a los que he obtenido. La transformada compleja que he programado cumple las relaciones 4.28 con los coeficientes de la transformada sin la notación compleja, sin embargo la fft de python no las cumple. Quizás se puede deber a que no usa una base ortonormal como nosotros."
   ]
  },
  {
   "cell_type": "markdown",
   "id": "30291493",
   "metadata": {},
   "source": [
    "4.8 Complex Fourier Series."
   ]
  },
  {
   "cell_type": "code",
   "execution_count": null,
   "id": "48ac92d9",
   "metadata": {},
   "outputs": [],
   "source": []
  }
 ],
 "metadata": {
  "kernelspec": {
   "display_name": "Python 3",
   "language": "python",
   "name": "python3"
  },
  "language_info": {
   "codemirror_mode": {
    "name": "ipython",
    "version": 3
   },
   "file_extension": ".py",
   "mimetype": "text/x-python",
   "name": "python",
   "nbconvert_exporter": "python",
   "pygments_lexer": "ipython3",
   "version": "3.9.12"
  }
 },
 "nbformat": 4,
 "nbformat_minor": 5
}
