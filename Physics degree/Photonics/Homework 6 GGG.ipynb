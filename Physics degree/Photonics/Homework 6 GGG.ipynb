{
 "cells": [
  {
   "cell_type": "markdown",
   "id": "91d447b4",
   "metadata": {},
   "source": [
    "Alumno: **Ginés González Guirado**\n",
    "\n",
    "# Homework 6"
   ]
  },
  {
   "cell_type": "code",
   "execution_count": 1,
   "id": "f72884e6",
   "metadata": {},
   "outputs": [],
   "source": [
    "import numpy as np"
   ]
  },
  {
   "cell_type": "markdown",
   "id": "2345305d",
   "metadata": {},
   "source": [
    "6.1 We showed in class that the exact Fourier series for a square wave in \"sine phase\" (see Fig. 6.1) is equal to $$y(x) = \\frac{4}{\\pi} (sin(x) + \\frac{1}{3}sin(3x) + \\frac{1}{5}sin(5x) + ...) = \\frac{4}{\\pi} \\sum_{k=odd} \\frac{sin(kx)}{k}$$\n",
    "\n",
    "Estimate the Fourier coefficients numerically by sampling this function at 8 points in the interval $(-\\pi, \\pi)$. Compare results with the exact answer given above. Repeat for 16 sample points."
   ]
  },
  {
   "cell_type": "markdown",
   "id": "f25ae847",
   "metadata": {},
   "source": [
    "Utilizo la función que definí en el homework anterior para obtener la matriz de cosenos y senos, y a partir de esto sacar los coeficientes de Fourier, ya que me dicen la cantidad de puntos que tengo que tomar y sé la forma de la función."
   ]
  },
  {
   "cell_type": "code",
   "execution_count": 2,
   "id": "810f8def",
   "metadata": {},
   "outputs": [],
   "source": [
    "def ft(v,m):\n",
    "    D=np.size(v)   # Dimension\n",
    "    N=D//2         # Armonicos\n",
    "\n",
    "    M=np.zeros((D,D))\n",
    "    A=np.zeros((D,D))\n",
    "    f=0    # la variable muda f, denota el orden de la columna que estamos rellenando\n",
    "    for i in range(D):\n",
    "        M[i,f]=1/np.sqrt(D)\n",
    "\n",
    "    for k in range(1,N+1):\n",
    "        f=f+1\n",
    "        for i in range(D):\n",
    "            M[i,f]=np.cos(2*k*np.pi*i/D)/np.sqrt(D/2)\n",
    "        f=f+1 \n",
    "        if f<=(D-1):  #si D es par, una vez llegado al último armónico, se llenará el vector de cosenos pero no el de senos\n",
    "            for i in range(D):\n",
    "                M[i,f]=np.sin(2*k*np.pi*i/D)/np.sqrt(D/2)\n",
    "    #M será la matriz para la DFT inversa\n",
    "    if(D%2==0):\n",
    "        for i in range(D):\n",
    "            M[i,D-1]=M[i,D-1]/np.sqrt(2)\n",
    "    \n",
    "    for i in range(D):\n",
    "        for j in range(D):\n",
    "            A[i,j]=M[j,i]  # la matriz para la DFT directa será la traspuesta\n",
    "            \n",
    "    if m==1:        \n",
    "        f=np.sqrt(2/D)*np.dot(A,v) #si m=1 el resultado es la DFT directa\n",
    "        return f\n",
    "    elif m==-1:\n",
    "        f=np.sqrt(D/2)*np.dot(M,v) #si m=-1 el resultado es la DFT inversa\n",
    "        return f\n",
    "    else:\n",
    "        return print('entrada incorrecta: 1 directa, -1 inversa') #si m es disntinto de 1 o -1 ponemos un mensaje de error\n",
    "    "
   ]
  },
  {
   "cell_type": "markdown",
   "id": "f1ddd044",
   "metadata": {},
   "source": [
    "Tomo un vector de 8 puntos de la función cuadrada que aparece en la (Fig. 6.1)."
   ]
  },
  {
   "cell_type": "code",
   "execution_count": 3,
   "id": "e34f4e75",
   "metadata": {},
   "outputs": [
    {
     "data": {
      "text/plain": [
       "array([0.       , 0.5      , 1.2071068, 0.       , 0.       , 0.5      ,\n",
       "       0.2071068, 0.       ])"
      ]
     },
     "execution_count": 3,
     "metadata": {},
     "output_type": "execute_result"
    }
   ],
   "source": [
    "v=np.array([1,1,1,1,-1,-1,-1,-1])   # Vector de 8 puntos\n",
    "np.round(ft(v,1),7)          # DFT directa y redondeo a la septima cifra decimal"
   ]
  },
  {
   "cell_type": "markdown",
   "id": "df712a2e",
   "metadata": {},
   "source": [
    "Calculo los coeficientes teóricos (fórmula 6.11 de los apuntes). Sólo calculo los coeficientes $b_k$, ya que los $a_k$ son nulos."
   ]
  },
  {
   "cell_type": "code",
   "execution_count": 4,
   "id": "0695785d",
   "metadata": {},
   "outputs": [
    {
     "name": "stdout",
     "output_type": "stream",
     "text": [
      "1.2732395447351628\n",
      "0\n",
      "0.4244131815783876\n"
     ]
    }
   ],
   "source": [
    "n=3     # calculo hasta b_3, ya que con 8 puntos solo podemos obtener numericamente hasta b_3\n",
    "for i in range(1,n+1):\n",
    "    if i%2==0:\n",
    "        print(0)     # Coeficientes para i=par\n",
    "    else:\n",
    "        print(4/(i*np.pi))     # Coeficientes para i=impar"
   ]
  },
  {
   "cell_type": "markdown",
   "id": "0ffcde59",
   "metadata": {},
   "source": [
    "Se puede apreciar que si k es par, tanto $a_k$ como $b_k$ son 0, lo que coincide con los valores teóricos. Sin embargo, si k es impar, $a_k = 0.5$, el cual debería ser nulo, y de los $b_k$ el primero, $b_1$, es el más similar al valor teórico, el coeficiente $b_2$ es aproximadamente la mitad del valor teórico."
   ]
  },
  {
   "cell_type": "code",
   "execution_count": 5,
   "id": "e74e08b6",
   "metadata": {},
   "outputs": [
    {
     "data": {
      "text/plain": [
       "array([ 0.       ,  0.25     ,  1.2568349, -0.       ,  0.       ,\n",
       "        0.25     ,  0.3741514,  0.       ,  0.       ,  0.25     ,\n",
       "        0.1670447,  0.       , -0.       ,  0.25     ,  0.0497281,\n",
       "        0.       ])"
      ]
     },
     "execution_count": 5,
     "metadata": {},
     "output_type": "execute_result"
    }
   ],
   "source": [
    "v=np.array([1,1,1,1,1,1,1,1,-1,-1,-1,-1,-1,-1,-1,-1])      # Vector de 16 puntos\n",
    "np.round(ft(v,1),7)          # DFT directa y redondeo a la septima cifra decimal"
   ]
  },
  {
   "cell_type": "code",
   "execution_count": 6,
   "id": "b0ab3c2d",
   "metadata": {},
   "outputs": [
    {
     "name": "stdout",
     "output_type": "stream",
     "text": [
      "1.2732395447351628\n",
      "0\n",
      "0.4244131815783876\n",
      "0\n",
      "0.25464790894703254\n",
      "0\n",
      "0.18189136353359467\n",
      "0\n"
     ]
    }
   ],
   "source": [
    "n=8      # Calculo hasta b_7\n",
    "for i in range(1,n+1):\n",
    "    if i%2==0:\n",
    "        print(0)     # Coeficientes para i=par\n",
    "    else:\n",
    "        print(4/(i*np.pi))     # Coeficientes para i=impar"
   ]
  },
  {
   "cell_type": "markdown",
   "id": "2462f7d8",
   "metadata": {},
   "source": [
    "Como era de esperar, al aumentar los puntos se ha mejorado la precisión de los coeficientes, ahora los $a_k$ que antes eran 0.5 se han reducido a 0.25 , justo a la mitad y hemos doblado el número de puntos. Los coeficientes $b_k$ también se aproximan más a los teóricos. Los primeros coeficientes $b_k$ tienen menos error que conforme se va avanzando."
   ]
  },
  {
   "cell_type": "markdown",
   "id": "09b6f479",
   "metadata": {},
   "source": [
    "6.2 In the book \"Visual Perception\" by Tom Cornsweet, an intensity profile is shown in Fig. 14.3A that has the equation $$I(x) = 2 sin(x) - sin(2x)$$\n",
    "\n",
    "Determine the Fourier coefficients for $I(x)$ numerically by sampling the function at 3 points. Repeat the analysis for 5 sample points. Repeat the analysis again for 7 points. Compare your results with the exact answer to determine how many sample points are required so that the numerical answer is exactly correct."
   ]
  },
  {
   "cell_type": "markdown",
   "id": "91a8ef30",
   "metadata": {},
   "source": [
    "Defino la función."
   ]
  },
  {
   "cell_type": "code",
   "execution_count": 7,
   "id": "de22c46a",
   "metadata": {},
   "outputs": [],
   "source": [
    "def g(D):          # D son los puntos que voy a tomar\n",
    "    g=np.zeros(D)  # Vector donde se almacenan los valores que tome la función\n",
    "    for i in range(D):\n",
    "        g[i]=2*np.sin(i*2*np.pi/D)-np.sin(i*4*np.pi/D)\n",
    "    return g"
   ]
  },
  {
   "cell_type": "code",
   "execution_count": 8,
   "id": "e477d3f4",
   "metadata": {},
   "outputs": [
    {
     "data": {
      "text/plain": [
       "array([ 0.        ,  2.59807621, -2.59807621])"
      ]
     },
     "execution_count": 8,
     "metadata": {},
     "output_type": "execute_result"
    }
   ],
   "source": [
    "g(3)    # Valores de la funcion si tomo 3 puntos"
   ]
  },
  {
   "cell_type": "code",
   "execution_count": 9,
   "id": "59ddf02e",
   "metadata": {},
   "outputs": [
    {
     "data": {
      "text/plain": [
       "array([0., 0., 3.])"
      ]
     },
     "execution_count": 9,
     "metadata": {},
     "output_type": "execute_result"
    }
   ],
   "source": [
    "# Coeficientes de Fourier si tomo 3 puntos y redondeo a la septima cifra decimal\n",
    "np.round(ft(g(3),1),7)"
   ]
  },
  {
   "cell_type": "code",
   "execution_count": 10,
   "id": "37030b22",
   "metadata": {},
   "outputs": [
    {
     "data": {
      "text/plain": [
       "array([ 0., -0.,  2., -0., -1.])"
      ]
     },
     "execution_count": 10,
     "metadata": {},
     "output_type": "execute_result"
    }
   ],
   "source": [
    "# Coeficientes de Fourier si tomo 5 puntos y redondeo a la septima cifra decimal\n",
    "np.round(ft(g(5),1),7)"
   ]
  },
  {
   "cell_type": "code",
   "execution_count": 11,
   "id": "66b24bde",
   "metadata": {},
   "outputs": [
    {
     "data": {
      "text/plain": [
       "array([-0.,  0.,  2., -0., -1., -0.,  0.])"
      ]
     },
     "execution_count": 11,
     "metadata": {},
     "output_type": "execute_result"
    }
   ],
   "source": [
    "# Coeficientes de Fourier si tomo 5 puntos y redondeo a la septima cifra decimal\n",
    "np.round(ft(g(7),1),7)"
   ]
  },
  {
   "cell_type": "markdown",
   "id": "79049b51",
   "metadata": {},
   "source": [
    "Con 5 puntos ya se llega al resultado exacto. Aunque para comprobar que el resto de $b_k = 0$ cuando $k > 3$, no se puede con 5 puntos y el mínimo número de puntos para comprobar que se cumple esto es 7."
   ]
  },
  {
   "cell_type": "code",
   "execution_count": null,
   "id": "f921d7fb",
   "metadata": {},
   "outputs": [],
   "source": []
  }
 ],
 "metadata": {
  "kernelspec": {
   "display_name": "Python 3",
   "language": "python",
   "name": "python3"
  },
  "language_info": {
   "codemirror_mode": {
    "name": "ipython",
    "version": 3
   },
   "file_extension": ".py",
   "mimetype": "text/x-python",
   "name": "python",
   "nbconvert_exporter": "python",
   "pygments_lexer": "ipython3",
   "version": "3.9.12"
  }
 },
 "nbformat": 4,
 "nbformat_minor": 5
}
