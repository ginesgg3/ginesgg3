{
 "cells": [
  {
   "cell_type": "markdown",
   "id": "bfe83c0d",
   "metadata": {},
   "source": [
    "Alumno: **Ginés González Guirado**\n",
    "\n",
    "# Homework 3"
   ]
  },
  {
   "cell_type": "markdown",
   "id": "9e77ef06",
   "metadata": {},
   "source": [
    "3.2. Use Excel or a hand calculator to verify that the following sets of vectors form an orthogonal basis for their space. All angles are specified in degrees."
   ]
  },
  {
   "cell_type": "markdown",
   "id": "5c428cca",
   "metadata": {},
   "source": [
    "D=4 case:"
   ]
  },
  {
   "cell_type": "code",
   "execution_count": 1,
   "id": "7f22f113",
   "metadata": {},
   "outputs": [
    {
     "data": {
      "text/plain": [
       "array([[ 1.,  1.,  1.,  1.],\n",
       "       [ 1.,  0., -1.,  0.],\n",
       "       [ 0.,  1.,  0., -1.],\n",
       "       [ 1., -1.,  1., -1.]])"
      ]
     },
     "execution_count": 1,
     "metadata": {},
     "output_type": "execute_result"
    }
   ],
   "source": [
    "import numpy as np\n",
    "\n",
    "C0 = np.array([ 1.0, 1.0, 1.0, 1.0])\n",
    "C1 = np.array([ 1.0, 0.0,-1.0, 0.0])\n",
    "S1 = np.array([ 0.0, 1.0, 0.0,-1.0])\n",
    "C2 = np.array([ 1.0,-1.0, 1.0,-1.0])\n",
    "\n",
    "A = np.array([C0,\n",
    "              C1,\n",
    "              S1,\n",
    "              C2])\n",
    "A"
   ]
  },
  {
   "cell_type": "code",
   "execution_count": 2,
   "id": "14ee4820",
   "metadata": {},
   "outputs": [
    {
     "name": "stdout",
     "output_type": "stream",
     "text": [
      "-7.999999999999998\n"
     ]
    }
   ],
   "source": [
    "det = np.linalg.det(A)\n",
    "\n",
    "print(det)"
   ]
  },
  {
   "cell_type": "markdown",
   "id": "8f30f171",
   "metadata": {},
   "source": [
    "D=5 case:"
   ]
  },
  {
   "cell_type": "code",
   "execution_count": 3,
   "id": "e09fe0f5",
   "metadata": {},
   "outputs": [
    {
     "data": {
      "text/plain": [
       "array([[ 1.        ,  1.        ,  1.        ,  1.        ,  1.        ],\n",
       "       [ 1.        ,  0.30901699, -0.80901699, -0.80901699,  0.30901699],\n",
       "       [ 0.        ,  0.95105652,  0.58778525, -0.58778525, -0.95105652],\n",
       "       [ 1.        , -0.80901699,  0.30901699,  0.30901699, -0.80901699],\n",
       "       [ 0.        ,  0.58778525, -0.95105652,  0.95105652, -0.58778525]])"
      ]
     },
     "execution_count": 3,
     "metadata": {},
     "output_type": "execute_result"
    }
   ],
   "source": [
    "import numpy as np\n",
    "\n",
    "a1 = np.cos(72.0*np.pi/180.0)\n",
    "b1 = np.cos(144.0*np.pi/180.0)\n",
    "c1 = np.cos(216.0*np.pi/180.0)\n",
    "d1 = np.cos(288.0*np.pi/180.0)\n",
    "e1 = np.cos(432.0*np.pi/180.0)\n",
    "f1 = np.cos(576.0*np.pi/180.0)\n",
    "a2 = np.sin(72.0*np.pi/180.0)\n",
    "b2 = np.sin(144.0*np.pi/180.0)\n",
    "c2 = np.sin(216.0*np.pi/180.0)\n",
    "d2 = np.sin(288.0*np.pi/180.0)\n",
    "e2 = np.sin(432.0*np.pi/180.0)\n",
    "f2 = np.sin(576.0*np.pi/180.0)\n",
    "\n",
    "C0 = np.array([ 1.0, 1.0, 1.0, 1.0, 1.0])\n",
    "C1 = np.array([ 1.0,  a1,  b1,  c1,  d1])\n",
    "S1 = np.array([ 0.0,  a2,  b2,  c2,  d2])\n",
    "C2 = np.array([ 1.0,  b1,  d1,  e1,  f1])\n",
    "S2 = np.array([ 0.0,  b2,  d2,  e2,  f2])\n",
    "\n",
    "A = np.array([C0,\n",
    "              C1,\n",
    "              S1,\n",
    "              C2,\n",
    "              S2])\n",
    "A"
   ]
  },
  {
   "cell_type": "code",
   "execution_count": 4,
   "id": "35b26456",
   "metadata": {},
   "outputs": [
    {
     "name": "stdout",
     "output_type": "stream",
     "text": [
      "13.975424859373687\n"
     ]
    }
   ],
   "source": [
    "det = np.linalg.det(A)\n",
    "\n",
    "print(det)"
   ]
  },
  {
   "cell_type": "markdown",
   "id": "9e6e6482",
   "metadata": {},
   "source": [
    "El determinante es distinto de 0, por lo que sólo el sistema tiene solución única y es la solución trivial, por tanto los vectores son linealmente independientes y forman una base."
   ]
  },
  {
   "cell_type": "markdown",
   "id": "63527a05",
   "metadata": {},
   "source": [
    "3.4 (a) Write a MATLAB script to create the sampled cosine vectors $C_K$ and the sampled sine vectors $S_K$ defined in text equation $[3.26]$ for the case: $K =5$. In this formula, $K$ is called the \"harmonic number\". Accordingly, $S_2$ is the \"second harmonic\" of the sine function."
   ]
  },
  {
   "cell_type": "code",
   "execution_count": 5,
   "id": "9f6d063b",
   "metadata": {},
   "outputs": [
    {
     "name": "stdout",
     "output_type": "stream",
     "text": [
      "C_0 = [1. 1. 1. 1. 1. 1. 1. 1. 1. 1. 1.]  C_1 = [ 1.          0.84125353  0.41541501 -0.14231484 -0.65486073 -0.95949297\n",
      " -0.95949297 -0.65486073 -0.14231484  0.41541501  0.84125353]  C_2 = [ 1.          0.41541501 -0.65486073 -0.95949297 -0.14231484  0.84125353\n",
      "  0.84125353 -0.14231484 -0.95949297 -0.65486073  0.41541501]  C_3 = [ 1.         -0.14231484 -0.95949297  0.41541501  0.84125353 -0.65486073\n",
      " -0.65486073  0.84125353  0.41541501 -0.95949297 -0.14231484]  C_4 = [ 1.         -0.65486073 -0.14231484  0.84125353 -0.95949297  0.41541501\n",
      "  0.41541501 -0.95949297  0.84125353 -0.14231484 -0.65486073]  C_5 = [ 1.         -0.95949297  0.84125353 -0.65486073  0.41541501 -0.14231484\n",
      " -0.14231484  0.41541501 -0.65486073  0.84125353 -0.95949297]  S_1 = [ 0.          0.54064082  0.909632    0.98982144  0.75574957  0.28173256\n",
      " -0.28173256 -0.75574957 -0.98982144 -0.909632   -0.54064082]  S_2 = [ 0.          0.909632    0.75574957 -0.28173256 -0.98982144 -0.54064082\n",
      "  0.54064082  0.98982144  0.28173256 -0.75574957 -0.909632  ]  S_3 = [ 0.          0.98982144 -0.28173256 -0.909632    0.54064082  0.75574957\n",
      " -0.75574957 -0.54064082  0.909632    0.28173256 -0.98982144]  S_4 = [ 0.          0.75574957 -0.98982144  0.54064082  0.28173256 -0.909632\n",
      "  0.909632   -0.28173256 -0.54064082  0.98982144 -0.75574957]  S_5 = [ 0.          0.28173256 -0.54064082  0.75574957 -0.909632    0.98982144\n",
      " -0.98982144  0.909632   -0.75574957  0.54064082 -0.28173256]\n"
     ]
    }
   ],
   "source": [
    "n=5    #Hasta donde llegan los vectors de base K=5\n",
    "D=11   #Dimension tipo int\n",
    "d=11.0  #Dimension como tipo float para poder dividir\n",
    "pi = np.pi\n",
    "\n",
    "#Genero los vectores qeu formarán la base\n",
    "\n",
    "C0 = np.zeros(D)\n",
    "C1 = np.zeros(D)\n",
    "C2 = np.zeros(D)\n",
    "C3 = np.zeros(D)\n",
    "C4 = np.zeros(D)\n",
    "C5 = np.zeros(D)\n",
    "\n",
    "S1 = np.zeros(D)\n",
    "S2 = np.zeros(D)\n",
    "S3 = np.zeros(D)\n",
    "S4 = np.zeros(D)\n",
    "S5 = np.zeros(D)\n",
    "\n",
    "#Bucle para calcular los vectores base\n",
    "\n",
    "for i in range(0,D):\n",
    "    k=0\n",
    "    C0[i] = np.cos(2*i*pi*k/d)\n",
    "    k=1\n",
    "    C1[i] = np.cos(2*i*pi*k/d)\n",
    "    S1[i] = np.sin(2*i*pi*k/d)\n",
    "    k=2\n",
    "    C2[i] = np.cos(2*i*pi*k/d)\n",
    "    S2[i] = np.sin(2*i*pi*k/d)\n",
    "    k=3\n",
    "    C3[i] = np.cos(2*i*pi*k/d)\n",
    "    S3[i] = np.sin(2*i*pi*k/d)\n",
    "    k=4\n",
    "    C4[i] = np.cos(2*i*pi*k/d)\n",
    "    S4[i] = np.sin(2*i*pi*k/d)\n",
    "    k=5\n",
    "    C5[i] = np.cos(2*i*pi*k/d)\n",
    "    S5[i] = np.sin(2*i*pi*k/d)\n",
    "print(\"C_0 =\",C0,\" C_1 =\", C1,\" C_2 =\", C2,\" C_3 =\", C3,\" C_4 =\", C4,\" C_5 =\", C5,\" S_1 =\", S1,\" S_2 =\", S2,\" S_3 =\", S3,\" S_4 =\", S4,\" S_5 =\", S5)"
   ]
  },
  {
   "cell_type": "markdown",
   "id": "f48c498a",
   "metadata": {},
   "source": [
    "(b) Assemble the resulting column vectors into a matrix as indicated in text equation $[3.27]$."
   ]
  },
  {
   "cell_type": "markdown",
   "id": "693bd00e",
   "metadata": {},
   "source": [
    "Convierto los los arrays fila en columna de esta forma:"
   ]
  },
  {
   "cell_type": "code",
   "execution_count": 6,
   "id": "9d03be2d",
   "metadata": {},
   "outputs": [
    {
     "name": "stdout",
     "output_type": "stream",
     "text": [
      "[1. 1. 1. 1. 1. 1. 1. 1. 1. 1. 1.]\n",
      "[[1. 1. 1. 1. 1. 1. 1. 1. 1. 1. 1.]]\n",
      "(11,)\n",
      "(1, 11)\n",
      "[1. 1. 1. 1. 1. 1. 1. 1. 1. 1. 1.]\n",
      "[[1.]\n",
      " [1.]\n",
      " [1.]\n",
      " [1.]\n",
      " [1.]\n",
      " [1.]\n",
      " [1.]\n",
      " [1.]\n",
      " [1.]\n",
      " [1.]\n",
      " [1.]]\n",
      "(11, 1)\n"
     ]
    }
   ],
   "source": [
    "C00 = np.array([C0])  #Convierto array 1D en 2D\n",
    "print(C0)\n",
    "print(C00)\n",
    "print(C0.shape)   #Forma del array\n",
    "print(C00.shape)\n",
    "print(C0.T)\n",
    "print(C00.T)   #Traspuesta del array\n",
    "print(C00.T.shape)   #Forma del array traspuesto (columna)"
   ]
  },
  {
   "cell_type": "code",
   "execution_count": 7,
   "id": "6848622f",
   "metadata": {},
   "outputs": [],
   "source": [
    "C00 = np.array([C0])\n",
    "C000 = C00.T    #Array columna\n",
    "\n",
    "C11 = np.array([C1])\n",
    "C111 = C11.T\n",
    "\n",
    "C22 = np.array([C2])\n",
    "C222 = C22.T\n",
    "\n",
    "C33 = np.array([C3])\n",
    "C333 = C33.T\n",
    "\n",
    "C44 = np.array([C4])\n",
    "C444 = C44.T\n",
    "\n",
    "C55 = np.array([C5])\n",
    "C555 = C55.T\n",
    "\n",
    "S11 = np.array([S1])\n",
    "S111 = S11.T\n",
    "\n",
    "S22 = np.array([S2])\n",
    "S222 = S22.T\n",
    "\n",
    "S33 = np.array([S3])\n",
    "S333 = S33.T\n",
    "\n",
    "S44 = np.array([S4])\n",
    "S444 = S44.T\n",
    "\n",
    "S55 = np.array([S5])\n",
    "S555 = S55.T"
   ]
  },
  {
   "cell_type": "code",
   "execution_count": 8,
   "id": "862cb0e7",
   "metadata": {},
   "outputs": [
    {
     "name": "stdout",
     "output_type": "stream",
     "text": [
      "[[ 1.          1.          0.          1.          0.          1.\n",
      "   0.          1.          0.          1.          0.        ]\n",
      " [ 1.          0.84125353  0.54064082  0.41541501  0.909632   -0.14231484\n",
      "   0.98982144 -0.65486073  0.75574957 -0.95949297  0.28173256]\n",
      " [ 1.          0.41541501  0.909632   -0.65486073  0.75574957 -0.95949297\n",
      "  -0.28173256 -0.14231484 -0.98982144  0.84125353 -0.54064082]\n",
      " [ 1.         -0.14231484  0.98982144 -0.95949297 -0.28173256  0.41541501\n",
      "  -0.909632    0.84125353  0.54064082 -0.65486073  0.75574957]\n",
      " [ 1.         -0.65486073  0.75574957 -0.14231484 -0.98982144  0.84125353\n",
      "   0.54064082 -0.95949297  0.28173256  0.41541501 -0.909632  ]\n",
      " [ 1.         -0.95949297  0.28173256  0.84125353 -0.54064082 -0.65486073\n",
      "   0.75574957  0.41541501 -0.909632   -0.14231484  0.98982144]\n",
      " [ 1.         -0.95949297 -0.28173256  0.84125353  0.54064082 -0.65486073\n",
      "  -0.75574957  0.41541501  0.909632   -0.14231484 -0.98982144]\n",
      " [ 1.         -0.65486073 -0.75574957 -0.14231484  0.98982144  0.84125353\n",
      "  -0.54064082 -0.95949297 -0.28173256  0.41541501  0.909632  ]\n",
      " [ 1.         -0.14231484 -0.98982144 -0.95949297  0.28173256  0.41541501\n",
      "   0.909632    0.84125353 -0.54064082 -0.65486073 -0.75574957]\n",
      " [ 1.          0.41541501 -0.909632   -0.65486073 -0.75574957 -0.95949297\n",
      "   0.28173256 -0.14231484  0.98982144  0.84125353  0.54064082]\n",
      " [ 1.          0.84125353 -0.54064082  0.41541501 -0.909632   -0.14231484\n",
      "  -0.98982144 -0.65486073 -0.75574957 -0.95949297 -0.28173256]]\n",
      "(11, 11)\n"
     ]
    }
   ],
   "source": [
    "A = np.hstack([C000, C111, S111, C222, S222, C333, S333, C444, S444, C555, S555])  #Uno arrays columna en matriz\n",
    "print(A)\n",
    "print(A.shape)"
   ]
  },
  {
   "cell_type": "markdown",
   "id": "b0a4cef0",
   "metadata": {},
   "source": [
    "(c) Use matrix mulitplication to find the length of each of the column vectors in the matrix created in part (b)."
   ]
  },
  {
   "cell_type": "code",
   "execution_count": 9,
   "id": "bdaf996a",
   "metadata": {},
   "outputs": [
    {
     "data": {
      "text/plain": [
       "array([[ 1.10000000e+01, -2.22044605e-16,  5.55111512e-16,\n",
       "         5.55111512e-17,  9.99200722e-16, -1.74860126e-15,\n",
       "         1.66533454e-15,  3.33066907e-15, -2.22044605e-16,\n",
       "         4.44089210e-16, -7.77156117e-16],\n",
       "       [-2.22044605e-16,  5.50000000e+00,  4.63954990e-16,\n",
       "        -3.39120447e-16,  4.08082137e-16, -3.02208085e-15,\n",
       "        -4.27413454e-16,  1.19246744e-16, -3.78176620e-16,\n",
       "         2.19318353e-15, -1.20718207e-15],\n",
       "       [ 5.55111512e-16,  4.63954990e-16,  5.50000000e+00,\n",
       "         1.17796665e-16,  4.06907775e-17,  1.15311866e-15,\n",
       "        -6.47524763e-16, -1.26669862e-15, -5.76617790e-16,\n",
       "        -1.55100009e-16,  2.71603010e-15],\n",
       "       [ 5.55111512e-17, -3.39120447e-16,  1.17796665e-16,\n",
       "         5.50000000e+00, -3.94310884e-17, -1.16381130e-15,\n",
       "         1.36353558e-15, -2.29579339e-16, -9.75855704e-16,\n",
       "        -5.57589511e-15, -3.87612643e-16],\n",
       "       [ 9.99200722e-16,  4.08082137e-16,  4.06907775e-17,\n",
       "        -3.94310884e-17,  5.50000000e+00,  2.06524409e-15,\n",
       "         3.25411781e-18, -1.45626597e-15,  3.85126351e-16,\n",
       "        -1.12762652e-15,  1.58145299e-15],\n",
       "       [-1.74860126e-15, -3.02208085e-15,  1.15311866e-15,\n",
       "        -1.16381130e-15,  2.06524409e-15,  5.50000000e+00,\n",
       "         3.74388408e-15, -1.38341415e-16,  1.16856047e-15,\n",
       "         5.85963660e-15,  2.09585505e-15],\n",
       "       [ 1.66533454e-15, -4.27413454e-16, -6.47524763e-16,\n",
       "         1.36353558e-15,  3.25411781e-18,  3.74388408e-15,\n",
       "         5.50000000e+00, -3.73029011e-16, -2.59058605e-16,\n",
       "         8.84797428e-16, -2.45904560e-16],\n",
       "       [ 3.33066907e-15,  1.19246744e-16, -1.26669862e-15,\n",
       "        -2.29579339e-16, -1.45626597e-15, -1.38341415e-16,\n",
       "        -3.73029011e-16,  5.50000000e+00,  1.15690366e-15,\n",
       "        -1.00483995e-15,  2.00983050e-15],\n",
       "       [-2.22044605e-16, -3.78176620e-16, -5.76617790e-16,\n",
       "        -9.75855704e-16,  3.85126351e-16,  1.16856047e-15,\n",
       "        -2.59058605e-16,  1.15690366e-15,  5.50000000e+00,\n",
       "        -7.55362685e-16,  1.56796826e-15],\n",
       "       [ 4.44089210e-16,  2.19318353e-15, -1.55100009e-16,\n",
       "        -5.57589511e-15, -1.12762652e-15,  5.85963660e-15,\n",
       "         8.84797428e-16, -1.00483995e-15, -7.55362685e-16,\n",
       "         5.50000000e+00,  3.64949047e-15],\n",
       "       [-7.77156117e-16, -1.20718207e-15,  2.71603010e-15,\n",
       "        -3.87612643e-16,  1.58145299e-15,  2.09585505e-15,\n",
       "        -2.45904560e-16,  2.00983050e-15,  1.56796826e-15,\n",
       "         3.64949047e-15,  5.50000000e+00]])"
      ]
     },
     "execution_count": 9,
     "metadata": {},
     "output_type": "execute_result"
    }
   ],
   "source": [
    "# Multiplico la traspuesta de A por A, de forma que se obtiene el modulo al cuadrado \n",
    "# o la longitud al cuadrado de cada vector en los elementos de la diagonal\n",
    "AI = A.T @ A\n",
    "AI"
   ]
  },
  {
   "cell_type": "markdown",
   "id": "5d9abed0",
   "metadata": {},
   "source": [
    "Ahora, selecciono los elementos que son el módulo al cuadrado o longitud al cuadrado de cada uno de los vectores de la base, es decir, los de la diagonal principal."
   ]
  },
  {
   "cell_type": "code",
   "execution_count": 10,
   "id": "e936407c",
   "metadata": {},
   "outputs": [],
   "source": [
    "LLC0 = AI[0,0]\n",
    "LLC1 = AI[1,1]\n",
    "LLS1 = AI[2,2]\n",
    "LLC2 = AI[3,3]\n",
    "LLS2 = AI[4,4]\n",
    "LLC3 = AI[5,5]\n",
    "LLS3 = AI[6,6]\n",
    "LLC4 = AI[7,7]\n",
    "LLS4 = AI[8,8]\n",
    "LLC5 = AI[9,9]\n",
    "LLS5 = AI[10,10]"
   ]
  },
  {
   "cell_type": "markdown",
   "id": "baae7b2a",
   "metadata": {},
   "source": [
    "Haciendo la raíz cuadrada obtenemos los módulos de cada uno de los vectores de la base."
   ]
  },
  {
   "cell_type": "code",
   "execution_count": 11,
   "id": "4fe0b2fa",
   "metadata": {},
   "outputs": [
    {
     "name": "stdout",
     "output_type": "stream",
     "text": [
      "Longitud C0 = 3.3166247903554\n",
      "Longitud C1 = 2.345207879911715\n",
      "Longitud S1 = 2.345207879911715\n",
      "Longitud C2 = 2.3452078799117153\n",
      "Longitud S2 = 2.3452078799117144\n",
      "Longitud C3 = 2.3452078799117153\n",
      "Longitud S3 = 2.3452078799117144\n",
      "Longitud C4 = 2.345207879911715\n",
      "Longitud S4 = 2.345207879911715\n",
      "Longitud C5 = 2.345207879911715\n",
      "Longitud S5 = 2.3452078799117144\n"
     ]
    }
   ],
   "source": [
    "LC0 = np.sqrt(LLC0)\n",
    "LC1 = np.sqrt(LLC1)\n",
    "LS1 = np.sqrt(LLS1)\n",
    "LC2 = np.sqrt(LLC2)\n",
    "LS2 = np.sqrt(LLS2)\n",
    "LC3 = np.sqrt(LLC3)\n",
    "LS3 = np.sqrt(LLS3)\n",
    "LC4 = np.sqrt(LLC4)\n",
    "LS4 = np.sqrt(LLS4)\n",
    "LC5 = np.sqrt(LLC5)\n",
    "LS5 = np.sqrt(LLS5)\n",
    "\n",
    "print(\"Longitud C0 =\",LC0)\n",
    "print(\"Longitud C1 =\",LC1)\n",
    "print(\"Longitud S1 =\",LS1)\n",
    "print(\"Longitud C2 =\",LC2)\n",
    "print(\"Longitud S2 =\",LS2)\n",
    "print(\"Longitud C3 =\",LC3)\n",
    "print(\"Longitud S3 =\",LS3)\n",
    "print(\"Longitud C4 =\",LC4)\n",
    "print(\"Longitud S4 =\",LS4)\n",
    "print(\"Longitud C5 =\",LC5)\n",
    "print(\"Longitud S5 =\",LS5)"
   ]
  },
  {
   "cell_type": "markdown",
   "id": "6a36e0f1",
   "metadata": {},
   "source": [
    "(d) Use your script to check your results from problem 3.2 above."
   ]
  },
  {
   "cell_type": "markdown",
   "id": "663865ca",
   "metadata": {},
   "source": [
    "Caso D=4:"
   ]
  },
  {
   "cell_type": "code",
   "execution_count": 12,
   "id": "e7b259bb",
   "metadata": {},
   "outputs": [
    {
     "name": "stdout",
     "output_type": "stream",
     "text": [
      "C_0 = [1. 1. 1. 1.]  C_1 = [ 1.0000000e+00  6.1232340e-17 -1.0000000e+00 -1.8369702e-16]  C_2 = [ 1. -1.  1. -1.] S_1 = [ 0.0000000e+00  1.0000000e+00  1.2246468e-16 -1.0000000e+00]\n"
     ]
    }
   ],
   "source": [
    "D=4\n",
    "d=4.0\n",
    "pi = np.pi\n",
    "\n",
    "C0 = np.zeros(D)\n",
    "C1 = np.zeros(D)\n",
    "C2 = np.zeros(D)\n",
    "\n",
    "S1 = np.zeros(D)\n",
    "\n",
    "for i in range(0,D):\n",
    "    k=0\n",
    "    C0[i] = np.cos(2*i*pi*k/d)\n",
    "    k=1\n",
    "    C1[i] = np.cos(2*i*pi*k/d)\n",
    "    S1[i] = np.sin(2*i*pi*k/d)\n",
    "    k=2\n",
    "    C2[i] = np.cos(2*i*pi*k/d)\n",
    "\n",
    "print(\"C_0 =\",C0,\" C_1 =\", C1,\" C_2 =\", C2,\"S_1 =\", S1)"
   ]
  },
  {
   "cell_type": "markdown",
   "id": "198429ad",
   "metadata": {},
   "source": [
    "Los vectores forman una base si son linealmente independientes, es decir, el siguiente determinante tiene que ser distinto de cero. Entonces, tendríamos solución única, la cuál sería la trivial y los vectores serían linealmente independientes, formando así una base. "
   ]
  },
  {
   "cell_type": "markdown",
   "id": "11899fd9",
   "metadata": {},
   "source": [
    "Convierto los arrays fila en columna y genero la matriz de la que calcularé el determinante para comprobar que es distinto de 0."
   ]
  },
  {
   "cell_type": "code",
   "execution_count": 13,
   "id": "d39f39a9",
   "metadata": {},
   "outputs": [
    {
     "name": "stdout",
     "output_type": "stream",
     "text": [
      "[[ 1.0000000e+00  1.0000000e+00  0.0000000e+00  1.0000000e+00]\n",
      " [ 1.0000000e+00  6.1232340e-17  1.0000000e+00 -1.0000000e+00]\n",
      " [ 1.0000000e+00 -1.0000000e+00  1.2246468e-16  1.0000000e+00]\n",
      " [ 1.0000000e+00 -1.8369702e-16 -1.0000000e+00 -1.0000000e+00]]\n",
      "(4, 4)\n"
     ]
    }
   ],
   "source": [
    "C00 = np.array([C0])\n",
    "C000 = C00.T\n",
    "\n",
    "C11 = np.array([C1])\n",
    "C111 = C11.T\n",
    "\n",
    "C22 = np.array([C2])\n",
    "C222 = C22.T\n",
    "\n",
    "S11 = np.array([S1])\n",
    "S111 = S11.T\n",
    "\n",
    "B = np.hstack([C000, C111, S111, C222])\n",
    "print(B)\n",
    "print(B.shape)"
   ]
  },
  {
   "cell_type": "code",
   "execution_count": 14,
   "id": "df7ee779",
   "metadata": {},
   "outputs": [
    {
     "name": "stdout",
     "output_type": "stream",
     "text": [
      "-7.999999999999998\n"
     ]
    }
   ],
   "source": [
    "det = np.linalg.det(B)\n",
    "\n",
    "print(det)"
   ]
  },
  {
   "cell_type": "markdown",
   "id": "b8e11893",
   "metadata": {},
   "source": [
    "Compruebo que son ortogonales, haciendo el producto escalar de cada uno de ellos por los demás."
   ]
  },
  {
   "cell_type": "code",
   "execution_count": 15,
   "id": "e7656851",
   "metadata": {},
   "outputs": [
    {
     "name": "stdout",
     "output_type": "stream",
     "text": [
      "C0.C1 = -1.224646799147353e-16\n",
      "C0.C2 = 0.0\n",
      "C0.S1 = 1.2246467991473532e-16\n",
      "C1.C2 = 1.224646799147353e-16\n",
      "C1.S1 = 1.2246467991473532e-16\n",
      "C2.S1 = 1.2246467991473532e-16\n"
     ]
    }
   ],
   "source": [
    "print(\"C0.C1 =\",C0 @ C1)\n",
    "print(\"C0.C2 =\",C0 @ C2)\n",
    "print(\"C0.S1 =\",C0 @ S1)\n",
    "print(\"C1.C2 =\",C1 @ C2)\n",
    "print(\"C1.S1 =\",C1 @ S1)\n",
    "print(\"C2.S1 =\",C2 @ S1)"
   ]
  },
  {
   "cell_type": "markdown",
   "id": "277ab100",
   "metadata": {},
   "source": [
    "Caso D=5:"
   ]
  },
  {
   "cell_type": "code",
   "execution_count": 16,
   "id": "0ff3f07c",
   "metadata": {},
   "outputs": [
    {
     "name": "stdout",
     "output_type": "stream",
     "text": [
      "C_0 = [1. 1. 1. 1. 1.]  C_1 = [ 1.          0.30901699 -0.80901699 -0.80901699  0.30901699]  C_2 = [ 1.         -0.80901699  0.30901699  0.30901699 -0.80901699]  S_1 = [ 0.          0.95105652  0.58778525 -0.58778525 -0.95105652]  S_2 = [ 0.          0.58778525 -0.95105652  0.95105652 -0.58778525]\n"
     ]
    }
   ],
   "source": [
    "D=5\n",
    "d=5.0\n",
    "pi = np.pi\n",
    "\n",
    "C0 = np.zeros(D)\n",
    "C1 = np.zeros(D)\n",
    "C2 = np.zeros(D)\n",
    "\n",
    "S1 = np.zeros(D)\n",
    "S2 = np.zeros(D)\n",
    "\n",
    "for i in range(0,D):\n",
    "    k=0\n",
    "    C0[i] = np.cos(2*i*pi*k/d)\n",
    "    k=1\n",
    "    C1[i] = np.cos(2*i*pi*k/d)\n",
    "    S1[i] = np.sin(2*i*pi*k/d)\n",
    "    k=2\n",
    "    C2[i] = np.cos(2*i*pi*k/d)\n",
    "    S2[i] = np.sin(2*i*pi*k/d)\n",
    "\n",
    "print(\"C_0 =\",C0,\" C_1 =\", C1,\" C_2 =\", C2,\" S_1 =\", S1,\" S_2 =\", S2)"
   ]
  },
  {
   "cell_type": "markdown",
   "id": "86ea1cc5",
   "metadata": {},
   "source": [
    "Los vectores forman una base si son linealmente independientes, es decir, el siguiente determinante tiene que ser distinto de cero. Entonces, tendríamos solución única, la cuál sería la trivial y los vectores serían linealmente independientes, formando así una base. "
   ]
  },
  {
   "cell_type": "markdown",
   "id": "6f933fd1",
   "metadata": {},
   "source": [
    "Convierto los arrays fila en columna y genero la matriz de la que calcularé el determinante para comprobar que es distinto de 0."
   ]
  },
  {
   "cell_type": "code",
   "execution_count": 17,
   "id": "a4b36966",
   "metadata": {},
   "outputs": [
    {
     "name": "stdout",
     "output_type": "stream",
     "text": [
      "[[ 1.          1.          0.          1.          0.        ]\n",
      " [ 1.          0.30901699  0.95105652 -0.80901699  0.58778525]\n",
      " [ 1.         -0.80901699  0.58778525  0.30901699 -0.95105652]\n",
      " [ 1.         -0.80901699 -0.58778525  0.30901699  0.95105652]\n",
      " [ 1.          0.30901699 -0.95105652 -0.80901699 -0.58778525]]\n",
      "(5, 5)\n"
     ]
    }
   ],
   "source": [
    "C00 = np.array([C0])\n",
    "C000 = C00.T\n",
    "\n",
    "C11 = np.array([C1])\n",
    "C111 = C11.T\n",
    "\n",
    "C22 = np.array([C2])\n",
    "C222 = C22.T\n",
    "\n",
    "S11 = np.array([S1])\n",
    "S111 = S11.T\n",
    "\n",
    "S22 = np.array([S2])\n",
    "S222 = S22.T\n",
    "\n",
    "B = np.hstack([C000, C111, S111, C222, S222])\n",
    "print(B)\n",
    "print(B.shape)"
   ]
  },
  {
   "cell_type": "code",
   "execution_count": 18,
   "id": "c89becdf",
   "metadata": {},
   "outputs": [
    {
     "name": "stdout",
     "output_type": "stream",
     "text": [
      "13.975424859373682\n"
     ]
    }
   ],
   "source": [
    "det = np.linalg.det(B)\n",
    "\n",
    "print(det)"
   ]
  },
  {
   "cell_type": "markdown",
   "id": "05c1f205",
   "metadata": {},
   "source": [
    "Compruebo que son ortogonales, haciendo el producto escalar de cada uno de ellos por los demás."
   ]
  },
  {
   "cell_type": "code",
   "execution_count": 19,
   "id": "cb59cdc6",
   "metadata": {},
   "outputs": [
    {
     "name": "stdout",
     "output_type": "stream",
     "text": [
      "C0.C1 = -1.1102230246251565e-16\n",
      "C0.C2 = -5.551115123125783e-17\n",
      "C0.S1 = 1.1102230246251565e-16\n",
      "C0.S2 = 2.220446049250313e-16\n",
      "C1.C2 = 1.1102230246251565e-16\n",
      "C1.S1 = 0.0\n",
      "C1.S2 = 1.1102230246251565e-16\n",
      "C2.S1 = 1.1102230246251565e-16\n",
      "C2.S2 = 2.7755575615628914e-16\n",
      "C1.S2 = 1.1102230246251565e-16\n"
     ]
    }
   ],
   "source": [
    "print(\"C0.C1 =\",C0 @ C1)\n",
    "print(\"C0.C2 =\",C0 @ C2)\n",
    "print(\"C0.S1 =\",C0 @ S1)\n",
    "print(\"C0.S2 =\",C0 @ S2)\n",
    "print(\"C1.C2 =\",C1 @ C2)\n",
    "print(\"C1.S1 =\",C1 @ S1)\n",
    "print(\"C1.S2 =\",C1 @ S2)\n",
    "print(\"C2.S1 =\",C2 @ S1)\n",
    "print(\"C2.S2 =\",C2 @ S2)\n",
    "print(\"C1.S2 =\",C1 @ S2)"
   ]
  },
  {
   "cell_type": "markdown",
   "id": "b49bf848",
   "metadata": {},
   "source": [
    "3.5. Write a MATLAB procedure to compute the ortho-normal trigonometrical matrix defined in text eqn. 3.39 for any vector of sample times. Verify your result for the case of D=2,3,4,5."
   ]
  },
  {
   "cell_type": "markdown",
   "id": "dbc63fb0",
   "metadata": {},
   "source": [
    "Calculo los vectores normalizados."
   ]
  },
  {
   "cell_type": "code",
   "execution_count": 20,
   "id": "eb4d1dd6",
   "metadata": {},
   "outputs": [
    {
     "name": "stdout",
     "output_type": "stream",
     "text": [
      "c_0 = [0.30151134 0.30151134 0.30151134 0.30151134 0.30151134 0.30151134\n",
      " 0.30151134 0.30151134 0.30151134 0.30151134 0.30151134]  c_1 = [ 0.42640143  0.35871171  0.17713356 -0.06068325 -0.27923356 -0.40912918\n",
      " -0.40912918 -0.27923356 -0.06068325  0.17713356  0.35871171]  c_2 = [ 0.42640143  0.17713356 -0.27923356 -0.40912918 -0.06068325  0.35871171\n",
      "  0.35871171 -0.06068325 -0.40912918 -0.27923356  0.17713356]  c_3 = [ 0.42640143 -0.06068325 -0.40912918  0.17713356  0.35871171 -0.27923356\n",
      " -0.27923356  0.35871171  0.17713356 -0.40912918 -0.06068325]  c_4 = [ 0.42640143 -0.27923356 -0.06068325  0.35871171 -0.40912918  0.17713356\n",
      "  0.17713356 -0.40912918  0.35871171 -0.06068325 -0.27923356]  c_5 = [ 0.42640143 -0.40912918  0.35871171 -0.27923356  0.17713356 -0.06068325\n",
      " -0.06068325  0.17713356 -0.27923356  0.35871171 -0.40912918]  s_1 = [ 0.          0.23053002  0.38786839  0.42206128  0.3222527   0.12013117\n",
      " -0.12013117 -0.3222527  -0.42206128 -0.38786839 -0.23053002]  s_2 = [ 0.          0.38786839  0.3222527  -0.12013117 -0.42206128 -0.23053002\n",
      "  0.23053002  0.42206128  0.12013117 -0.3222527  -0.38786839]  s_3 = [ 0.          0.42206128 -0.12013117 -0.38786839  0.23053002  0.3222527\n",
      " -0.3222527  -0.23053002  0.38786839  0.12013117 -0.42206128]  s_4 = [ 0.          0.3222527  -0.42206128  0.23053002  0.12013117 -0.38786839\n",
      "  0.38786839 -0.12013117 -0.23053002  0.42206128 -0.3222527 ]  s_5 = [ 0.          0.12013117 -0.23053002  0.3222527  -0.38786839  0.42206128\n",
      " -0.42206128  0.38786839 -0.3222527   0.23053002 -0.12013117]\n"
     ]
    }
   ],
   "source": [
    "# Caso D=11, si D es mayor solamente hay que añadir mas vectores\n",
    "n=5\n",
    "D=11\n",
    "d=11.0\n",
    "pi = np.pi\n",
    "\n",
    "c0 = np.zeros(D)\n",
    "c1 = np.zeros(D)\n",
    "c2 = np.zeros(D)\n",
    "c3 = np.zeros(D)\n",
    "c4 = np.zeros(D)\n",
    "c5 = np.zeros(D)\n",
    "\n",
    "s1 = np.zeros(D)\n",
    "s2 = np.zeros(D)\n",
    "s3 = np.zeros(D)\n",
    "s4 = np.zeros(D)\n",
    "s5 = np.zeros(D)\n",
    "\n",
    "for i in range(0,D):\n",
    "    k=0\n",
    "    c0[i] = (1.0/np.sqrt(d))*np.cos(2*i*pi*k/d)\n",
    "    k=1\n",
    "    c1[i] = (1.0/np.sqrt(d/2.0))*np.cos(2*i*pi*k/d)\n",
    "    s1[i] = (1.0/np.sqrt(d/2.0))*np.sin(2*i*pi*k/d)\n",
    "    k=2\n",
    "    c2[i] = (1.0/np.sqrt(d/2.0))*np.cos(2*i*pi*k/d)\n",
    "    s2[i] = (1.0/np.sqrt(d/2.0))*np.sin(2*i*pi*k/d)\n",
    "    k=3\n",
    "    c3[i] = (1.0/np.sqrt(d/2.0))*np.cos(2*i*pi*k/d)\n",
    "    s3[i] = (1.0/np.sqrt(d/2.0))*np.sin(2*i*pi*k/d)\n",
    "    k=4\n",
    "    c4[i] = (1.0/np.sqrt(d/2.0))*np.cos(2*i*pi*k/d)\n",
    "    s4[i] = (1.0/np.sqrt(d/2.0))*np.sin(2*i*pi*k/d)\n",
    "    k=5\n",
    "    c5[i] = (1.0/np.sqrt(d/2.0))*np.cos(2*i*pi*k/d)\n",
    "    s5[i] = (1.0/np.sqrt(d/2.0))*np.sin(2*i*pi*k/d)\n",
    "print(\"c_0 =\",c0,\" c_1 =\", c1,\" c_2 =\", c2,\" c_3 =\", c3,\" c_4 =\", c4,\" c_5 =\", c5,\" s_1 =\", s1,\" s_2 =\", s2,\" s_3 =\", s3,\" s_4 =\", s4,\" s_5 =\", s5)"
   ]
  },
  {
   "cell_type": "code",
   "execution_count": 21,
   "id": "0c3d9fb9",
   "metadata": {},
   "outputs": [
    {
     "name": "stdout",
     "output_type": "stream",
     "text": [
      "[[ 0.30151134  0.30151134  0.30151134  0.30151134  0.30151134  0.30151134\n",
      "   0.30151134  0.30151134  0.30151134  0.30151134  0.30151134]\n",
      " [ 0.42640143  0.35871171  0.17713356 -0.06068325 -0.27923356 -0.40912918\n",
      "  -0.40912918 -0.27923356 -0.06068325  0.17713356  0.35871171]\n",
      " [ 0.          0.23053002  0.38786839  0.42206128  0.3222527   0.12013117\n",
      "  -0.12013117 -0.3222527  -0.42206128 -0.38786839 -0.23053002]\n",
      " [ 0.42640143  0.17713356 -0.27923356 -0.40912918 -0.06068325  0.35871171\n",
      "   0.35871171 -0.06068325 -0.40912918 -0.27923356  0.17713356]\n",
      " [ 0.          0.38786839  0.3222527  -0.12013117 -0.42206128 -0.23053002\n",
      "   0.23053002  0.42206128  0.12013117 -0.3222527  -0.38786839]\n",
      " [ 0.42640143 -0.06068325 -0.40912918  0.17713356  0.35871171 -0.27923356\n",
      "  -0.27923356  0.35871171  0.17713356 -0.40912918 -0.06068325]\n",
      " [ 0.          0.42206128 -0.12013117 -0.38786839  0.23053002  0.3222527\n",
      "  -0.3222527  -0.23053002  0.38786839  0.12013117 -0.42206128]\n",
      " [ 0.42640143 -0.27923356 -0.06068325  0.35871171 -0.40912918  0.17713356\n",
      "   0.17713356 -0.40912918  0.35871171 -0.06068325 -0.27923356]\n",
      " [ 0.          0.3222527  -0.42206128  0.23053002  0.12013117 -0.38786839\n",
      "   0.38786839 -0.12013117 -0.23053002  0.42206128 -0.3222527 ]\n",
      " [ 0.42640143 -0.40912918  0.35871171 -0.27923356  0.17713356 -0.06068325\n",
      "  -0.06068325  0.17713356 -0.27923356  0.35871171 -0.40912918]\n",
      " [ 0.          0.12013117 -0.23053002  0.3222527  -0.38786839  0.42206128\n",
      "  -0.42206128  0.38786839 -0.3222527   0.23053002 -0.12013117]]\n",
      "(11, 11)\n"
     ]
    }
   ],
   "source": [
    "A = np.array([c0,\n",
    "              c1,\n",
    "              s1,\n",
    "              c2,\n",
    "              s2,\n",
    "              c3,\n",
    "              s3,\n",
    "              c4,\n",
    "              s4,\n",
    "              c5,\n",
    "              s5])  #Matriz con los vectores base en fila\n",
    "print(A)\n",
    "print(A.shape)"
   ]
  },
  {
   "cell_type": "code",
   "execution_count": 22,
   "id": "846b20ed",
   "metadata": {},
   "outputs": [
    {
     "data": {
      "text/plain": [
       "array([[ 0.70710678],\n",
       "       [-0.1       ],\n",
       "       [-0.34056872],\n",
       "       [-0.1       ],\n",
       "       [-0.15560304],\n",
       "       [-0.1       ],\n",
       "       [-0.08665049],\n",
       "       [-0.1       ],\n",
       "       [-0.04566847],\n",
       "       [-0.1       ],\n",
       "       [-0.01437783]])"
      ]
     },
     "execution_count": 22,
     "metadata": {},
     "output_type": "execute_result"
    }
   ],
   "source": [
    "# Genero un vector (Que en un ejercicio se tendría que dar)\n",
    "v = np.linspace(0,1,D)\n",
    "v0 = np.array([v])\n",
    "v00 = v0.T\n",
    "\n",
    "#Forward DFT\n",
    "f = np.sqrt(2.0/d)*A @ v00\n",
    "f"
   ]
  },
  {
   "cell_type": "markdown",
   "id": "8e77c631",
   "metadata": {},
   "source": [
    "Caso D=2:"
   ]
  },
  {
   "cell_type": "code",
   "execution_count": 23,
   "id": "928fbb24",
   "metadata": {},
   "outputs": [
    {
     "name": "stdout",
     "output_type": "stream",
     "text": [
      "c_0 = [0.70710678 0.70710678]  c_1 = [ 1. -1.]\n"
     ]
    }
   ],
   "source": [
    "n=1\n",
    "D=2\n",
    "d=2.0\n",
    "pi = np.pi\n",
    "\n",
    "c0 = np.zeros(D)\n",
    "c1 = np.zeros(D)\n",
    "\n",
    "for i in range(0,D):\n",
    "    k=0\n",
    "    c0[i] = (1.0/np.sqrt(d))*np.cos(2*i*pi*k/d)\n",
    "    k=1\n",
    "    c1[i] = (1.0/np.sqrt(d/2.0))*np.cos(2*i*pi*k/d)\n",
    "\n",
    "print(\"c_0 =\",c0,\" c_1 =\", c1)"
   ]
  },
  {
   "cell_type": "code",
   "execution_count": 24,
   "id": "98c942c9",
   "metadata": {},
   "outputs": [
    {
     "name": "stdout",
     "output_type": "stream",
     "text": [
      "[[ 0.70710678  0.70710678]\n",
      " [ 1.         -1.        ]]\n",
      "(2, 2)\n"
     ]
    }
   ],
   "source": [
    "A = np.array([c0,c1])\n",
    "\n",
    "print(A)\n",
    "print(A.shape)"
   ]
  },
  {
   "cell_type": "code",
   "execution_count": 25,
   "id": "11b5f41d",
   "metadata": {},
   "outputs": [
    {
     "data": {
      "text/plain": [
       "array([[ 0.77781746],\n",
       "       [-0.9       ]])"
      ]
     },
     "execution_count": 25,
     "metadata": {},
     "output_type": "execute_result"
    }
   ],
   "source": [
    "v = np.linspace(0.1,1,D)\n",
    "v0 = np.array([v])\n",
    "v00 = v0.T\n",
    "\n",
    "f = np.sqrt(2.0/d)*A @ v00\n",
    "f"
   ]
  },
  {
   "cell_type": "markdown",
   "id": "51c7c618",
   "metadata": {},
   "source": [
    "Caso D=3:"
   ]
  },
  {
   "cell_type": "code",
   "execution_count": 26,
   "id": "46f67a4b",
   "metadata": {},
   "outputs": [
    {
     "name": "stdout",
     "output_type": "stream",
     "text": [
      "c_0 = [0.57735027 0.57735027 0.57735027]  c_1 = [ 0.81649658 -0.40824829 -0.40824829]  s_1 = [ 0.          0.70710678 -0.70710678]\n"
     ]
    }
   ],
   "source": [
    "n=1\n",
    "D=3\n",
    "d=3.0\n",
    "pi = np.pi\n",
    "\n",
    "c0 = np.zeros(D)\n",
    "c1 = np.zeros(D)\n",
    "s1 = np.zeros(D)\n",
    "\n",
    "for i in range(0,D):\n",
    "    k=0\n",
    "    c0[i] = (1.0/np.sqrt(d))*np.cos(2*i*pi*k/d)\n",
    "    k=1\n",
    "    c1[i] = (1.0/np.sqrt(d/2.0))*np.cos(2*i*pi*k/d)\n",
    "    s1[i] = (1.0/np.sqrt(d/2.0))*np.sin(2*i*pi*k/d)\n",
    "\n",
    "print(\"c_0 =\",c0,\" c_1 =\", c1,\" s_1 =\",s1)"
   ]
  },
  {
   "cell_type": "code",
   "execution_count": 27,
   "id": "ee7f3bb3",
   "metadata": {},
   "outputs": [
    {
     "name": "stdout",
     "output_type": "stream",
     "text": [
      "[[ 0.57735027  0.57735027  0.57735027]\n",
      " [ 0.81649658 -0.40824829 -0.40824829]\n",
      " [ 0.          0.70710678 -0.70710678]]\n",
      "(3, 3)\n"
     ]
    }
   ],
   "source": [
    "A = np.array([c0,c1,s1])\n",
    "\n",
    "print(A)\n",
    "print(A.shape)"
   ]
  },
  {
   "cell_type": "code",
   "execution_count": 28,
   "id": "ef3d005d",
   "metadata": {},
   "outputs": [
    {
     "data": {
      "text/plain": [
       "array([[ 0.77781746],\n",
       "       [-0.45      ],\n",
       "       [-0.25980762]])"
      ]
     },
     "execution_count": 28,
     "metadata": {},
     "output_type": "execute_result"
    }
   ],
   "source": [
    "v = np.linspace(0.1,1,D)\n",
    "v0 = np.array([v])\n",
    "v00 = v0.T\n",
    "\n",
    "f = np.sqrt(2.0/d)*A @ v00\n",
    "f"
   ]
  },
  {
   "cell_type": "markdown",
   "id": "6d3fb024",
   "metadata": {},
   "source": [
    "Caso D=4:"
   ]
  },
  {
   "cell_type": "code",
   "execution_count": 29,
   "id": "df6725be",
   "metadata": {},
   "outputs": [
    {
     "name": "stdout",
     "output_type": "stream",
     "text": [
      "c_0 = [0.5 0.5 0.5 0.5]  c_1 = [ 7.07106781e-01  4.32978028e-17 -7.07106781e-01 -1.29893408e-16]  c_2 = [ 0.70710678 -0.70710678  0.70710678 -0.70710678]  s_1 = [ 0.00000000e+00  7.07106781e-01  8.65956056e-17 -7.07106781e-01]\n"
     ]
    }
   ],
   "source": [
    "n=2\n",
    "D=4\n",
    "d=4.0\n",
    "pi = np.pi\n",
    "\n",
    "c0 = np.zeros(D)\n",
    "c1 = np.zeros(D)\n",
    "c2 = np.zeros(D)\n",
    "\n",
    "s1 = np.zeros(D)\n",
    "\n",
    "for i in range(0,D):\n",
    "    k=0\n",
    "    c0[i] = (1.0/np.sqrt(d))*np.cos(2*i*pi*k/d)\n",
    "    k=1\n",
    "    c1[i] = (1.0/np.sqrt(d/2.0))*np.cos(2*i*pi*k/d)\n",
    "    s1[i] = (1.0/np.sqrt(d/2.0))*np.sin(2*i*pi*k/d)\n",
    "    k=2\n",
    "    c2[i] = (1.0/np.sqrt(d/2.0))*np.cos(2*i*pi*k/d)\n",
    "\n",
    "print(\"c_0 =\",c0,\" c_1 =\", c1,\" c_2 =\", c2,\" s_1 =\", s1)"
   ]
  },
  {
   "cell_type": "code",
   "execution_count": 30,
   "id": "71228577",
   "metadata": {},
   "outputs": [
    {
     "name": "stdout",
     "output_type": "stream",
     "text": [
      "[[ 5.00000000e-01  5.00000000e-01  5.00000000e-01  5.00000000e-01]\n",
      " [ 7.07106781e-01  4.32978028e-17 -7.07106781e-01 -1.29893408e-16]\n",
      " [ 0.00000000e+00  7.07106781e-01  8.65956056e-17 -7.07106781e-01]\n",
      " [ 7.07106781e-01 -7.07106781e-01  7.07106781e-01 -7.07106781e-01]]\n",
      "(4, 4)\n"
     ]
    }
   ],
   "source": [
    "A = np.array([c0,c1,s1,c2])\n",
    "\n",
    "print(A)\n",
    "print(A.shape)"
   ]
  },
  {
   "cell_type": "code",
   "execution_count": 31,
   "id": "9347ca50",
   "metadata": {},
   "outputs": [
    {
     "data": {
      "text/plain": [
       "array([[ 0.77781746],\n",
       "       [-0.3       ],\n",
       "       [-0.3       ],\n",
       "       [-0.3       ]])"
      ]
     },
     "execution_count": 31,
     "metadata": {},
     "output_type": "execute_result"
    }
   ],
   "source": [
    "v = np.linspace(0.1,1,D)\n",
    "v0 = np.array([v])\n",
    "v00 = v0.T\n",
    "\n",
    "f = np.sqrt(2.0/d)*A @ v00\n",
    "f"
   ]
  },
  {
   "cell_type": "markdown",
   "id": "ccdfc596",
   "metadata": {},
   "source": [
    "Caso D=5:"
   ]
  },
  {
   "cell_type": "code",
   "execution_count": 32,
   "id": "1c9a1be3",
   "metadata": {},
   "outputs": [
    {
     "name": "stdout",
     "output_type": "stream",
     "text": [
      "c_0 = [0.4472136 0.4472136 0.4472136 0.4472136 0.4472136]  c_1 = [ 0.63245553  0.19543951 -0.51166727 -0.51166727  0.19543951]  c_2 = [ 0.63245553 -0.51166727  0.19543951  0.19543951 -0.51166727]  s_1 = [ 0.          0.60150096  0.37174803 -0.37174803 -0.60150096]  s_2 = [ 0.          0.37174803 -0.60150096  0.60150096 -0.37174803]\n"
     ]
    }
   ],
   "source": [
    "n=2\n",
    "D=5\n",
    "d=5.0\n",
    "pi = np.pi\n",
    "\n",
    "c0 = np.zeros(D)\n",
    "c1 = np.zeros(D)\n",
    "c2 = np.zeros(D)\n",
    "\n",
    "s1 = np.zeros(D)\n",
    "s2 = np.zeros(D)\n",
    "\n",
    "for i in range(0,D):\n",
    "    k=0\n",
    "    c0[i] = (1.0/np.sqrt(d))*np.cos(2*i*pi*k/d)\n",
    "    k=1\n",
    "    c1[i] = (1.0/np.sqrt(d/2.0))*np.cos(2*i*pi*k/d)\n",
    "    s1[i] = (1.0/np.sqrt(d/2.0))*np.sin(2*i*pi*k/d)\n",
    "    k=2\n",
    "    c2[i] = (1.0/np.sqrt(d/2.0))*np.cos(2*i*pi*k/d)\n",
    "    s2[i] = (1.0/np.sqrt(d/2.0))*np.sin(2*i*pi*k/d)\n",
    "\n",
    "print(\"c_0 =\",c0,\" c_1 =\", c1,\" c_2 =\", c2,\" s_1 =\", s1,\" s_2 =\", s2)"
   ]
  },
  {
   "cell_type": "code",
   "execution_count": 33,
   "id": "f7be5f6a",
   "metadata": {},
   "outputs": [
    {
     "name": "stdout",
     "output_type": "stream",
     "text": [
      "[[ 0.4472136   0.4472136   0.4472136   0.4472136   0.4472136 ]\n",
      " [ 0.63245553  0.19543951 -0.51166727 -0.51166727  0.19543951]\n",
      " [ 0.          0.60150096  0.37174803 -0.37174803 -0.60150096]\n",
      " [ 0.63245553 -0.51166727  0.19543951  0.19543951 -0.51166727]\n",
      " [ 0.          0.37174803 -0.60150096  0.60150096 -0.37174803]]\n",
      "(5, 5)\n"
     ]
    }
   ],
   "source": [
    "A = np.array([c0,c1,s1,c2,s2])\n",
    "\n",
    "print(A)\n",
    "print(A.shape)"
   ]
  },
  {
   "cell_type": "code",
   "execution_count": 34,
   "id": "6f00b1db",
   "metadata": {},
   "outputs": [
    {
     "data": {
      "text/plain": [
       "array([[ 0.77781746],\n",
       "       [-0.225     ],\n",
       "       [-0.30968593],\n",
       "       [-0.225     ],\n",
       "       [-0.07310693]])"
      ]
     },
     "execution_count": 34,
     "metadata": {},
     "output_type": "execute_result"
    }
   ],
   "source": [
    "v = np.linspace(0.1,1,D)\n",
    "v0 = np.array([v])\n",
    "v00 = v0.T\n",
    "\n",
    "f = np.sqrt(2.0/d)*A @ v00\n",
    "f"
   ]
  },
  {
   "cell_type": "markdown",
   "id": "dc1b7f63",
   "metadata": {},
   "source": [
    "3.6 Write a MATLAB procedure to implement the forward DFT (text eqn. 3.39) and inverse DFT (text eqn. 3.38) for any data vector of length D. Verify the routine for the following 2 data vectors: $v1 = [3, -2, 6]$, $v2 = [-5, 0, 3, 8]$"
   ]
  },
  {
   "cell_type": "markdown",
   "id": "b281fec1",
   "metadata": {},
   "source": [
    "A procedure to implement the forward DFT is:"
   ]
  },
  {
   "cell_type": "code",
   "execution_count": 35,
   "id": "95690271",
   "metadata": {},
   "outputs": [
    {
     "name": "stdout",
     "output_type": "stream",
     "text": [
      "c_0 = [0.30151134 0.30151134 0.30151134 0.30151134 0.30151134 0.30151134\n",
      " 0.30151134 0.30151134 0.30151134 0.30151134 0.30151134]  c_1 = [ 0.42640143  0.35871171  0.17713356 -0.06068325 -0.27923356 -0.40912918\n",
      " -0.40912918 -0.27923356 -0.06068325  0.17713356  0.35871171]  c_2 = [ 0.42640143  0.17713356 -0.27923356 -0.40912918 -0.06068325  0.35871171\n",
      "  0.35871171 -0.06068325 -0.40912918 -0.27923356  0.17713356]  c_3 = [ 0.42640143 -0.06068325 -0.40912918  0.17713356  0.35871171 -0.27923356\n",
      " -0.27923356  0.35871171  0.17713356 -0.40912918 -0.06068325]  c_4 = [ 0.42640143 -0.27923356 -0.06068325  0.35871171 -0.40912918  0.17713356\n",
      "  0.17713356 -0.40912918  0.35871171 -0.06068325 -0.27923356]  c_5 = [ 0.42640143 -0.40912918  0.35871171 -0.27923356  0.17713356 -0.06068325\n",
      " -0.06068325  0.17713356 -0.27923356  0.35871171 -0.40912918]  s_1 = [ 0.          0.23053002  0.38786839  0.42206128  0.3222527   0.12013117\n",
      " -0.12013117 -0.3222527  -0.42206128 -0.38786839 -0.23053002]  s_2 = [ 0.          0.38786839  0.3222527  -0.12013117 -0.42206128 -0.23053002\n",
      "  0.23053002  0.42206128  0.12013117 -0.3222527  -0.38786839]  s_3 = [ 0.          0.42206128 -0.12013117 -0.38786839  0.23053002  0.3222527\n",
      " -0.3222527  -0.23053002  0.38786839  0.12013117 -0.42206128]  s_4 = [ 0.          0.3222527  -0.42206128  0.23053002  0.12013117 -0.38786839\n",
      "  0.38786839 -0.12013117 -0.23053002  0.42206128 -0.3222527 ]  s_5 = [ 0.          0.12013117 -0.23053002  0.3222527  -0.38786839  0.42206128\n",
      " -0.42206128  0.38786839 -0.3222527   0.23053002 -0.12013117]\n"
     ]
    }
   ],
   "source": [
    "# Primero definimos los vectores de la base, por ejemplo, para D=11\n",
    "n=5\n",
    "D=11\n",
    "d=11.0\n",
    "pi = np.pi\n",
    "\n",
    "c0 = np.zeros(D)\n",
    "c1 = np.zeros(D)\n",
    "c2 = np.zeros(D)\n",
    "c3 = np.zeros(D)\n",
    "c4 = np.zeros(D)\n",
    "c5 = np.zeros(D)\n",
    "\n",
    "s1 = np.zeros(D)\n",
    "s2 = np.zeros(D)\n",
    "s3 = np.zeros(D)\n",
    "s4 = np.zeros(D)\n",
    "s5 = np.zeros(D)\n",
    "\n",
    "for i in range(0,D):\n",
    "    k=0\n",
    "    c0[i] = (1.0/np.sqrt(d))*np.cos(2*i*pi*k/d)\n",
    "    k=1\n",
    "    c1[i] = (1.0/np.sqrt(d/2.0))*np.cos(2*i*pi*k/d)\n",
    "    s1[i] = (1.0/np.sqrt(d/2.0))*np.sin(2*i*pi*k/d)\n",
    "    k=2\n",
    "    c2[i] = (1.0/np.sqrt(d/2.0))*np.cos(2*i*pi*k/d)\n",
    "    s2[i] = (1.0/np.sqrt(d/2.0))*np.sin(2*i*pi*k/d)\n",
    "    k=3\n",
    "    c3[i] = (1.0/np.sqrt(d/2.0))*np.cos(2*i*pi*k/d)\n",
    "    s3[i] = (1.0/np.sqrt(d/2.0))*np.sin(2*i*pi*k/d)\n",
    "    k=4\n",
    "    c4[i] = (1.0/np.sqrt(d/2.0))*np.cos(2*i*pi*k/d)\n",
    "    s4[i] = (1.0/np.sqrt(d/2.0))*np.sin(2*i*pi*k/d)\n",
    "    k=5\n",
    "    c5[i] = (1.0/np.sqrt(d/2.0))*np.cos(2*i*pi*k/d)\n",
    "    s5[i] = (1.0/np.sqrt(d/2.0))*np.sin(2*i*pi*k/d)\n",
    "print(\"c_0 =\",c0,\" c_1 =\", c1,\" c_2 =\", c2,\" c_3 =\", c3,\" c_4 =\", c4,\" c_5 =\", c5,\" s_1 =\", s1,\" s_2 =\", s2,\" s_3 =\", s3,\" s_4 =\", s4,\" s_5 =\", s5)"
   ]
  },
  {
   "cell_type": "code",
   "execution_count": 36,
   "id": "31759076",
   "metadata": {},
   "outputs": [
    {
     "name": "stdout",
     "output_type": "stream",
     "text": [
      "[[ 0.30151134  0.30151134  0.30151134  0.30151134  0.30151134  0.30151134\n",
      "   0.30151134  0.30151134  0.30151134  0.30151134  0.30151134]\n",
      " [ 0.42640143  0.35871171  0.17713356 -0.06068325 -0.27923356 -0.40912918\n",
      "  -0.40912918 -0.27923356 -0.06068325  0.17713356  0.35871171]\n",
      " [ 0.          0.23053002  0.38786839  0.42206128  0.3222527   0.12013117\n",
      "  -0.12013117 -0.3222527  -0.42206128 -0.38786839 -0.23053002]\n",
      " [ 0.42640143  0.17713356 -0.27923356 -0.40912918 -0.06068325  0.35871171\n",
      "   0.35871171 -0.06068325 -0.40912918 -0.27923356  0.17713356]\n",
      " [ 0.          0.38786839  0.3222527  -0.12013117 -0.42206128 -0.23053002\n",
      "   0.23053002  0.42206128  0.12013117 -0.3222527  -0.38786839]\n",
      " [ 0.42640143 -0.06068325 -0.40912918  0.17713356  0.35871171 -0.27923356\n",
      "  -0.27923356  0.35871171  0.17713356 -0.40912918 -0.06068325]\n",
      " [ 0.          0.42206128 -0.12013117 -0.38786839  0.23053002  0.3222527\n",
      "  -0.3222527  -0.23053002  0.38786839  0.12013117 -0.42206128]\n",
      " [ 0.42640143 -0.27923356 -0.06068325  0.35871171 -0.40912918  0.17713356\n",
      "   0.17713356 -0.40912918  0.35871171 -0.06068325 -0.27923356]\n",
      " [ 0.          0.3222527  -0.42206128  0.23053002  0.12013117 -0.38786839\n",
      "   0.38786839 -0.12013117 -0.23053002  0.42206128 -0.3222527 ]\n",
      " [ 0.42640143 -0.40912918  0.35871171 -0.27923356  0.17713356 -0.06068325\n",
      "  -0.06068325  0.17713356 -0.27923356  0.35871171 -0.40912918]\n",
      " [ 0.          0.12013117 -0.23053002  0.3222527  -0.38786839  0.42206128\n",
      "  -0.42206128  0.38786839 -0.3222527   0.23053002 -0.12013117]]\n",
      "(11, 11)\n"
     ]
    }
   ],
   "source": [
    "A = np.array([c0,c1,s1,c2,s2,c3,s3,c4,s4,c5,s5])\n",
    "\n",
    "print(A)\n",
    "print(A.shape)"
   ]
  },
  {
   "cell_type": "code",
   "execution_count": 37,
   "id": "e1adfebc",
   "metadata": {},
   "outputs": [
    {
     "data": {
      "text/plain": [
       "array([[ 0.70710678],\n",
       "       [-0.1       ],\n",
       "       [-0.34056872],\n",
       "       [-0.1       ],\n",
       "       [-0.15560304],\n",
       "       [-0.1       ],\n",
       "       [-0.08665049],\n",
       "       [-0.1       ],\n",
       "       [-0.04566847],\n",
       "       [-0.1       ],\n",
       "       [-0.01437783]])"
      ]
     },
     "execution_count": 37,
     "metadata": {},
     "output_type": "execute_result"
    }
   ],
   "source": [
    "# Genero un vector (Que en un ejercicio se tendría que dar)\n",
    "v = np.linspace(0,1,D)\n",
    "v0 = np.array([v])\n",
    "v00 = v0.T\n",
    "\n",
    "# Forward DFT\n",
    "f = np.sqrt(2.0/d)*A @ v00\n",
    "f"
   ]
  },
  {
   "cell_type": "markdown",
   "id": "3ec58289",
   "metadata": {},
   "source": [
    "Inverse DFT:"
   ]
  },
  {
   "cell_type": "code",
   "execution_count": 38,
   "id": "4ecdea25",
   "metadata": {},
   "outputs": [
    {
     "name": "stdout",
     "output_type": "stream",
     "text": [
      "c_0 = [0.30151134 0.30151134 0.30151134 0.30151134 0.30151134 0.30151134\n",
      " 0.30151134 0.30151134 0.30151134 0.30151134 0.30151134]  c_1 = [ 0.42640143  0.35871171  0.17713356 -0.06068325 -0.27923356 -0.40912918\n",
      " -0.40912918 -0.27923356 -0.06068325  0.17713356  0.35871171]  c_2 = [ 0.42640143  0.17713356 -0.27923356 -0.40912918 -0.06068325  0.35871171\n",
      "  0.35871171 -0.06068325 -0.40912918 -0.27923356  0.17713356]  c_3 = [ 0.42640143 -0.06068325 -0.40912918  0.17713356  0.35871171 -0.27923356\n",
      " -0.27923356  0.35871171  0.17713356 -0.40912918 -0.06068325]  c_4 = [ 0.42640143 -0.27923356 -0.06068325  0.35871171 -0.40912918  0.17713356\n",
      "  0.17713356 -0.40912918  0.35871171 -0.06068325 -0.27923356]  c_5 = [ 0.42640143 -0.40912918  0.35871171 -0.27923356  0.17713356 -0.06068325\n",
      " -0.06068325  0.17713356 -0.27923356  0.35871171 -0.40912918]  s_1 = [ 0.          0.23053002  0.38786839  0.42206128  0.3222527   0.12013117\n",
      " -0.12013117 -0.3222527  -0.42206128 -0.38786839 -0.23053002]  s_2 = [ 0.          0.38786839  0.3222527  -0.12013117 -0.42206128 -0.23053002\n",
      "  0.23053002  0.42206128  0.12013117 -0.3222527  -0.38786839]  s_3 = [ 0.          0.42206128 -0.12013117 -0.38786839  0.23053002  0.3222527\n",
      " -0.3222527  -0.23053002  0.38786839  0.12013117 -0.42206128]  s_4 = [ 0.          0.3222527  -0.42206128  0.23053002  0.12013117 -0.38786839\n",
      "  0.38786839 -0.12013117 -0.23053002  0.42206128 -0.3222527 ]  s_5 = [ 0.          0.12013117 -0.23053002  0.3222527  -0.38786839  0.42206128\n",
      " -0.42206128  0.38786839 -0.3222527   0.23053002 -0.12013117]\n"
     ]
    }
   ],
   "source": [
    "# Primero definimos los vectores de la base, por ejemplo, para D=11\n",
    "n=5\n",
    "D=11\n",
    "d=11.0\n",
    "pi = np.pi\n",
    "\n",
    "c0 = np.zeros(D)\n",
    "c1 = np.zeros(D)\n",
    "c2 = np.zeros(D)\n",
    "c3 = np.zeros(D)\n",
    "c4 = np.zeros(D)\n",
    "c5 = np.zeros(D)\n",
    "\n",
    "s1 = np.zeros(D)\n",
    "s2 = np.zeros(D)\n",
    "s3 = np.zeros(D)\n",
    "s4 = np.zeros(D)\n",
    "s5 = np.zeros(D)\n",
    "\n",
    "for i in range(0,D):\n",
    "    k=0\n",
    "    c0[i] = (1.0/np.sqrt(d))*np.cos(2*i*pi*k/d)\n",
    "    k=1\n",
    "    c1[i] = (1.0/np.sqrt(d/2.0))*np.cos(2*i*pi*k/d)\n",
    "    s1[i] = (1.0/np.sqrt(d/2.0))*np.sin(2*i*pi*k/d)\n",
    "    k=2\n",
    "    c2[i] = (1.0/np.sqrt(d/2.0))*np.cos(2*i*pi*k/d)\n",
    "    s2[i] = (1.0/np.sqrt(d/2.0))*np.sin(2*i*pi*k/d)\n",
    "    k=3\n",
    "    c3[i] = (1.0/np.sqrt(d/2.0))*np.cos(2*i*pi*k/d)\n",
    "    s3[i] = (1.0/np.sqrt(d/2.0))*np.sin(2*i*pi*k/d)\n",
    "    k=4\n",
    "    c4[i] = (1.0/np.sqrt(d/2.0))*np.cos(2*i*pi*k/d)\n",
    "    s4[i] = (1.0/np.sqrt(d/2.0))*np.sin(2*i*pi*k/d)\n",
    "    k=5\n",
    "    c5[i] = (1.0/np.sqrt(d/2.0))*np.cos(2*i*pi*k/d)\n",
    "    s5[i] = (1.0/np.sqrt(d/2.0))*np.sin(2*i*pi*k/d)\n",
    "print(\"c_0 =\",c0,\" c_1 =\", c1,\" c_2 =\", c2,\" c_3 =\", c3,\" c_4 =\", c4,\" c_5 =\", c5,\" s_1 =\", s1,\" s_2 =\", s2,\" s_3 =\", s3,\" s_4 =\", s4,\" s_5 =\", s5)"
   ]
  },
  {
   "cell_type": "markdown",
   "id": "84f9afc6",
   "metadata": {},
   "source": [
    "Convierto los los arrays fila en columna:"
   ]
  },
  {
   "cell_type": "code",
   "execution_count": 39,
   "id": "8b381306",
   "metadata": {},
   "outputs": [
    {
     "name": "stdout",
     "output_type": "stream",
     "text": [
      "[[ 0.30151134  0.42640143  0.          0.42640143  0.          0.42640143\n",
      "   0.          0.42640143  0.          0.42640143  0.        ]\n",
      " [ 0.30151134  0.35871171  0.23053002  0.17713356  0.38786839 -0.06068325\n",
      "   0.42206128 -0.27923356  0.3222527  -0.40912918  0.12013117]\n",
      " [ 0.30151134  0.17713356  0.38786839 -0.27923356  0.3222527  -0.40912918\n",
      "  -0.12013117 -0.06068325 -0.42206128  0.35871171 -0.23053002]\n",
      " [ 0.30151134 -0.06068325  0.42206128 -0.40912918 -0.12013117  0.17713356\n",
      "  -0.38786839  0.35871171  0.23053002 -0.27923356  0.3222527 ]\n",
      " [ 0.30151134 -0.27923356  0.3222527  -0.06068325 -0.42206128  0.35871171\n",
      "   0.23053002 -0.40912918  0.12013117  0.17713356 -0.38786839]\n",
      " [ 0.30151134 -0.40912918  0.12013117  0.35871171 -0.23053002 -0.27923356\n",
      "   0.3222527   0.17713356 -0.38786839 -0.06068325  0.42206128]\n",
      " [ 0.30151134 -0.40912918 -0.12013117  0.35871171  0.23053002 -0.27923356\n",
      "  -0.3222527   0.17713356  0.38786839 -0.06068325 -0.42206128]\n",
      " [ 0.30151134 -0.27923356 -0.3222527  -0.06068325  0.42206128  0.35871171\n",
      "  -0.23053002 -0.40912918 -0.12013117  0.17713356  0.38786839]\n",
      " [ 0.30151134 -0.06068325 -0.42206128 -0.40912918  0.12013117  0.17713356\n",
      "   0.38786839  0.35871171 -0.23053002 -0.27923356 -0.3222527 ]\n",
      " [ 0.30151134  0.17713356 -0.38786839 -0.27923356 -0.3222527  -0.40912918\n",
      "   0.12013117 -0.06068325  0.42206128  0.35871171  0.23053002]\n",
      " [ 0.30151134  0.35871171 -0.23053002  0.17713356 -0.38786839 -0.06068325\n",
      "  -0.42206128 -0.27923356 -0.3222527  -0.40912918 -0.12013117]]\n",
      "(11, 11)\n"
     ]
    }
   ],
   "source": [
    "c00 = np.array([c0])\n",
    "c000 = c00.T\n",
    "\n",
    "c11 = np.array([c1])\n",
    "c111 = c11.T\n",
    "\n",
    "c22 = np.array([c2])\n",
    "c222 = c22.T\n",
    "\n",
    "c33 = np.array([c3])\n",
    "c333 = c33.T\n",
    "\n",
    "c44 = np.array([c4])\n",
    "c444 = c44.T\n",
    "\n",
    "c55 = np.array([c5])\n",
    "c555 = c55.T\n",
    "\n",
    "s11 = np.array([s1])\n",
    "s111 = s11.T\n",
    "\n",
    "s22 = np.array([s2])\n",
    "s222 = s22.T\n",
    "\n",
    "s33 = np.array([s3])\n",
    "s333 = s33.T\n",
    "\n",
    "s44 = np.array([s4])\n",
    "s444 = s44.T\n",
    "\n",
    "s55 = np.array([s5])\n",
    "s555 = s55.T\n",
    "\n",
    "# Genero la matriz con vectores base columna\n",
    "A = np.hstack([c000, c111, s111, c222, s222, c333, s333, c444, s444, c555, s555])\n",
    "print(A)\n",
    "print(A.shape)"
   ]
  },
  {
   "cell_type": "code",
   "execution_count": 40,
   "id": "1e3c3516",
   "metadata": {},
   "outputs": [
    {
     "data": {
      "text/plain": [
       "array([[ 3.14142136],\n",
       "       [ 1.35121847],\n",
       "       [-0.78351464],\n",
       "       [ 0.766699  ],\n",
       "       [-0.4948171 ],\n",
       "       [ 0.59471497],\n",
       "       [-0.52514658],\n",
       "       [ 0.60113929],\n",
       "       [-0.83564678],\n",
       "       [ 0.9029087 ],\n",
       "       [-3.16334176]])"
      ]
     },
     "execution_count": 40,
     "metadata": {},
     "output_type": "execute_result"
    }
   ],
   "source": [
    "# Genero un vector de los coeficientes (Que en un ejercicio se tendría que dar)\n",
    "f = np.linspace(0.2,1,D)\n",
    "f0 = np.array([f])\n",
    "f00 = f0.T\n",
    "\n",
    "# Inverse DFT\n",
    "v = np.sqrt(d/2.0)*A @ f00\n",
    "v"
   ]
  },
  {
   "cell_type": "markdown",
   "id": "cfcd82ce",
   "metadata": {},
   "source": [
    "Compruebo para $v_1 = [3,-2,6]$:"
   ]
  },
  {
   "cell_type": "code",
   "execution_count": 41,
   "id": "87d4acce",
   "metadata": {},
   "outputs": [
    {
     "name": "stdout",
     "output_type": "stream",
     "text": [
      "c_0 = [0.57735027 0.57735027 0.57735027]  c_1 = [ 0.81649658 -0.40824829 -0.40824829]  s_1 = [ 0.          0.70710678 -0.70710678]\n"
     ]
    }
   ],
   "source": [
    "# Hago forward DFT\n",
    "\n",
    "n=1\n",
    "D=3\n",
    "d=3.0\n",
    "pi = np.pi\n",
    "\n",
    "c0 = np.zeros(D)\n",
    "c1 = np.zeros(D)\n",
    "\n",
    "s1 = np.zeros(D)\n",
    "\n",
    "for i in range(0,D):\n",
    "    k=0\n",
    "    c0[i] = (1.0/np.sqrt(d))*np.cos(2*i*pi*k/d)\n",
    "    k=1\n",
    "    c1[i] = (1.0/np.sqrt(d/2.0))*np.cos(2*i*pi*k/d)\n",
    "    s1[i] = (1.0/np.sqrt(d/2.0))*np.sin(2*i*pi*k/d)\n",
    "\n",
    "print(\"c_0 =\",c0,\" c_1 =\", c1,\" s_1 =\", s1)"
   ]
  },
  {
   "cell_type": "code",
   "execution_count": 42,
   "id": "0fae3073",
   "metadata": {},
   "outputs": [
    {
     "name": "stdout",
     "output_type": "stream",
     "text": [
      "[[ 0.57735027  0.57735027  0.57735027]\n",
      " [ 0.81649658 -0.40824829 -0.40824829]\n",
      " [ 0.          0.70710678 -0.70710678]]\n",
      "(3, 3)\n"
     ]
    }
   ],
   "source": [
    "A = np.array([c0,c1,s1])\n",
    "\n",
    "print(A)\n",
    "print(A.shape)"
   ]
  },
  {
   "cell_type": "code",
   "execution_count": 43,
   "id": "26021106",
   "metadata": {},
   "outputs": [
    {
     "data": {
      "text/plain": [
       "array([[ 3.29983165],\n",
       "       [ 0.66666667],\n",
       "       [-4.61880215]])"
      ]
     },
     "execution_count": 43,
     "metadata": {},
     "output_type": "execute_result"
    }
   ],
   "source": [
    "v = np.array([3,-2,6])\n",
    "v0 = np.array([v])\n",
    "v00 = v0.T\n",
    "\n",
    "# Forward DFT\n",
    "f = np.sqrt(2.0/d)*A @ v00\n",
    "f"
   ]
  },
  {
   "cell_type": "markdown",
   "id": "1319707f",
   "metadata": {},
   "source": [
    "Compruebo para $v_2 = [-5,0,3,8]$:"
   ]
  },
  {
   "cell_type": "code",
   "execution_count": 44,
   "id": "62ecb09e",
   "metadata": {},
   "outputs": [
    {
     "name": "stdout",
     "output_type": "stream",
     "text": [
      "c_0 = [0.5 0.5 0.5 0.5]  c_1 = [ 7.07106781e-01  4.32978028e-17 -7.07106781e-01 -1.29893408e-16]  c_2 = [ 0.70710678 -0.70710678  0.70710678 -0.70710678]  s_1 = [ 0.00000000e+00  7.07106781e-01  8.65956056e-17 -7.07106781e-01]\n"
     ]
    }
   ],
   "source": [
    "n=2\n",
    "D=4\n",
    "d=4.0\n",
    "pi = np.pi\n",
    "\n",
    "c0 = np.zeros(D)\n",
    "c1 = np.zeros(D)\n",
    "c2 = np.zeros(D)\n",
    "\n",
    "s1 = np.zeros(D)\n",
    "\n",
    "for i in range(0,D):\n",
    "    k=0\n",
    "    c0[i] = (1.0/np.sqrt(d))*np.cos(2*i*pi*k/d)\n",
    "    k=1\n",
    "    c1[i] = (1.0/np.sqrt(d/2.0))*np.cos(2*i*pi*k/d)\n",
    "    s1[i] = (1.0/np.sqrt(d/2.0))*np.sin(2*i*pi*k/d)\n",
    "    k=2\n",
    "    c2[i] = (1.0/np.sqrt(d/2.0))*np.cos(2*i*pi*k/d)\n",
    "\n",
    "print(\"c_0 =\",c0,\" c_1 =\", c1,\" c_2 =\", c2,\" s_1 =\", s1)"
   ]
  },
  {
   "cell_type": "code",
   "execution_count": 45,
   "id": "7be4e5d8",
   "metadata": {},
   "outputs": [
    {
     "name": "stdout",
     "output_type": "stream",
     "text": [
      "[[ 5.00000000e-01  5.00000000e-01  5.00000000e-01  5.00000000e-01]\n",
      " [ 7.07106781e-01  4.32978028e-17 -7.07106781e-01 -1.29893408e-16]\n",
      " [ 0.00000000e+00  7.07106781e-01  8.65956056e-17 -7.07106781e-01]\n",
      " [ 7.07106781e-01 -7.07106781e-01  7.07106781e-01 -7.07106781e-01]]\n",
      "(4, 4)\n"
     ]
    }
   ],
   "source": [
    "A = np.array([c0,c1,s1,c2])\n",
    "\n",
    "print(A)\n",
    "print(A.shape)"
   ]
  },
  {
   "cell_type": "code",
   "execution_count": 46,
   "id": "e84338c5",
   "metadata": {},
   "outputs": [
    {
     "data": {
      "text/plain": [
       "array([[ 2.12132034],\n",
       "       [-4.        ],\n",
       "       [-4.        ],\n",
       "       [-5.        ]])"
      ]
     },
     "execution_count": 46,
     "metadata": {},
     "output_type": "execute_result"
    }
   ],
   "source": [
    "v = np.array([-5,0,3,8])\n",
    "v0 = np.array([v])\n",
    "v00 = v0.T\n",
    "\n",
    "# Forward DFT\n",
    "f = np.sqrt(2.0/d)*A @ v00\n",
    "f"
   ]
  },
  {
   "cell_type": "code",
   "execution_count": null,
   "id": "99f68603",
   "metadata": {},
   "outputs": [],
   "source": []
  }
 ],
 "metadata": {
  "kernelspec": {
   "display_name": "Python 3",
   "language": "python",
   "name": "python3"
  },
  "language_info": {
   "codemirror_mode": {
    "name": "ipython",
    "version": 3
   },
   "file_extension": ".py",
   "mimetype": "text/x-python",
   "name": "python",
   "nbconvert_exporter": "python",
   "pygments_lexer": "ipython3",
   "version": "3.9.12"
  }
 },
 "nbformat": 4,
 "nbformat_minor": 5
}
